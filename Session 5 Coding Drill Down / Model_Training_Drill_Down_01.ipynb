{
  "nbformat": 4,
  "nbformat_minor": 0,
  "metadata": {
    "colab": {
      "name": "Model Training Drill Down 01.ipynb",
      "provenance": [],
      "collapsed_sections": [],
      "include_colab_link": true
    },
    "kernelspec": {
      "name": "python3",
      "display_name": "Python 3"
    },
    "accelerator": "GPU"
  },
  "cells": [
    {
      "cell_type": "markdown",
      "metadata": {
        "id": "view-in-github",
        "colab_type": "text"
      },
      "source": [
        "<a href=\"https://colab.research.google.com/github/bhuvnk/EVA6/blob/main/Session%205%20Coding%20Drill%20Down%20/%20Model_Training_Drill_Down_01.ipynb\" target=\"_parent\"><img src=\"https://colab.research.google.com/assets/colab-badge.svg\" alt=\"Open In Colab\"/></a>"
      ]
    },
    {
      "cell_type": "markdown",
      "metadata": {
        "id": "N0jjb5j1-UMJ"
      },
      "source": [
        "### 1. Target\n",
        "\n",
        "Already had a base training pipeline from previous assignment, we'll work on top of that to improve.\n",
        "\n",
        "- Write a decent architecture to start with\n",
        "- From previous assignment noticed that wide first conv-block gives good accuracy, so shall expand the first block till 32\n",
        "- Mostly follow excite-squeeze methodology\n",
        "- No dropout, no data augmentation\n",
        "- 15 Epochs\n",
        "- OneCycleLR from get go; because it works!!\n",
        "\n",
        "### 2. Result\n",
        "\n",
        "- Params: `10_472`\n",
        "- Best Train Accuracy: `99.86%`\n",
        "- Best Test Accuracy : `99.49%`\n",
        "\n",
        "### 3. Analysis\n",
        "\n",
        "- Model is not really overfitting, but the train-test accuracy gap can be reduced more by some dropouts\n",
        "- Need to reduce the parameteres under 10000"
      ]
    },
    {
      "cell_type": "markdown",
      "metadata": {
        "id": "PxJZ0m0fwEVb"
      },
      "source": [
        "## Model\n",
        "\n",
        "- Convolution Block 1\n",
        "    - `Conv2D:  1,  8, 3; Out: 26x26x8`\n",
        "    - `Conv2D:  1, 16, 3; Out: 24x24x16`\n",
        "    - `Conv2D: 16, 32, 3; Out: 22x22x32`\n",
        "- Transition Block\n",
        "    - `Conv2D: 32, 08, 1; Out: 22x22x8`\n",
        "    - `MaxPool2D: 2x2;    Out: 11x11x8`\n",
        "- Convolution Block 2\n",
        "    - `Conv2D:  8,  8, 3; Out: 9x9x8`\n",
        "    - `Conv2D:  8, 16, 3; Out: 7x7x16`\n",
        "    - `Conv2D: 16, 16, 3; Out: 5x5x16`\n",
        "- GAP\n",
        "    - `AdaptiveAvgPool2d: -;    Out: 1x1x16`\n",
        "    - `Conv2D:  -, 10, 1; Out: 1x1x10`"
      ]
    },
    {
      "cell_type": "code",
      "metadata": {
        "colab": {
          "base_uri": "https://localhost:8080/"
        },
        "id": "PptY8gN7zFSL",
        "outputId": "f523d3b8-7ab5-4d78-cdfe-3366ee727de1"
      },
      "source": [
        "!nvidia-smi"
      ],
      "execution_count": null,
      "outputs": [
        {
          "output_type": "stream",
          "text": [
            "Fri Jun  4 17:18:12 2021       \n",
            "+-----------------------------------------------------------------------------+\n",
            "| NVIDIA-SMI 465.27       Driver Version: 460.32.03    CUDA Version: 11.2     |\n",
            "|-------------------------------+----------------------+----------------------+\n",
            "| GPU  Name        Persistence-M| Bus-Id        Disp.A | Volatile Uncorr. ECC |\n",
            "| Fan  Temp  Perf  Pwr:Usage/Cap|         Memory-Usage | GPU-Util  Compute M. |\n",
            "|                               |                      |               MIG M. |\n",
            "|===============================+======================+======================|\n",
            "|   0  Tesla P100-PCIE...  Off  | 00000000:00:04.0 Off |                    0 |\n",
            "| N/A   52C    P0    32W / 250W |      0MiB / 16280MiB |      0%      Default |\n",
            "|                               |                      |                  N/A |\n",
            "+-------------------------------+----------------------+----------------------+\n",
            "                                                                               \n",
            "+-----------------------------------------------------------------------------+\n",
            "| Processes:                                                                  |\n",
            "|  GPU   GI   CI        PID   Type   Process name                  GPU Memory |\n",
            "|        ID   ID                                                   Usage      |\n",
            "|=============================================================================|\n",
            "|  No running processes found                                                 |\n",
            "+-----------------------------------------------------------------------------+\n"
          ],
          "name": "stdout"
        }
      ]
    },
    {
      "cell_type": "code",
      "metadata": {
        "id": "0m2JWFliFfKT"
      },
      "source": [
        "from __future__ import print_function\n",
        "import torch\n",
        "import torch.nn as nn\n",
        "import torch.nn.functional as F\n",
        "import torch.optim as optim\n",
        "from torchvision import datasets, transforms"
      ],
      "execution_count": null,
      "outputs": []
    },
    {
      "cell_type": "code",
      "metadata": {
        "id": "Vh1D07axeCtL"
      },
      "source": [
        "drop_value = 0.1\n",
        "class Net(nn.Module):\n",
        "    def __init__(self):\n",
        "        super(Net, self).__init__()\n",
        "\n",
        "        # dims : [28,28,1];\n",
        "        self.conv1 = nn.Sequential(\n",
        "            nn.Conv2d(1, 8, 3, bias=False), # 26\n",
        "            nn.ReLU(),\n",
        "            nn.BatchNorm2d(8),\n",
        "            # nn.Dropout2d(drop_value),\n",
        "            # RF - 3x3\n",
        "\n",
        "            nn.Conv2d(8, 16, 3, bias=False), # 24\n",
        "            nn.ReLU(),\n",
        "            nn.BatchNorm2d(16),\n",
        "            # nn.Dropout2d(drop_value),\n",
        "            # RF - 5x5\n",
        "\n",
        "            nn.Conv2d(16, 32, 3, bias=False), # 22\n",
        "            nn.ReLU(),\n",
        "            nn.BatchNorm2d(32),\n",
        "            # nn.Dropout2d(drop_value),\n",
        "            # RF - 7x7\n",
        "        )\n",
        "\n",
        "        # dims : [22x22x32]\n",
        "        # Bottle neck - Transition layer\n",
        "\n",
        "        self.trans1 = nn.Sequential(\n",
        "            nn.Conv2d(32, 8, 1, bias=False), # 22\n",
        "            nn.ReLU(),\n",
        "            # RF - 7x7\n",
        "\n",
        "            nn.MaxPool2d(2, 2), # 11\n",
        "            # RF - 14x14\n",
        "        )\n",
        "\n",
        "        # dims : [11x11x8]\n",
        "        \n",
        "        self.conv2 = nn.Sequential(\n",
        "            nn.Conv2d(8, 8, 3, bias=False), # 9\n",
        "            nn.ReLU(),\n",
        "            nn.BatchNorm2d(8),\n",
        "            # nn.Dropout2d(drop_value),\n",
        "            # RF - 16x16\n",
        "\n",
        "            nn.Conv2d(8, 16, 3, bias=False), # 7\n",
        "            nn.ReLU(),\n",
        "            nn.BatchNorm2d(16),\n",
        "            # nn.Dropout2d(drop_value),\n",
        "            # RF - 18x18\n",
        "\n",
        "            nn.Conv2d(16, 16, 3, bias=False), # 5\n",
        "            nn.ReLU(),\n",
        "            nn.BatchNorm2d(16),\n",
        "            # nn.Dropout2d(drop_value),\n",
        "            # RF - 20x20\n",
        "        )\n",
        "\n",
        "        # dims : 5x5x32\n",
        "\n",
        "        # GAP Layer\n",
        "        self.out = nn.Sequential(\n",
        "            nn.AdaptiveAvgPool2d((1,1)),       # \n",
        "            nn.Conv2d(16, 10, 1, bias=False), # 5\n",
        "            # RF - 22x22\n",
        "        )\n",
        "\n",
        "    def forward(self, x):\n",
        "        x = self.conv1(x)\n",
        "        x = self.trans1(x)\n",
        "        x = self.conv2(x)\n",
        "        x = self.out(x)\n",
        "\n",
        "        x = x.view(-1, 10)\n",
        "        return F.log_softmax(x)"
      ],
      "execution_count": null,
      "outputs": []
    },
    {
      "cell_type": "markdown",
      "metadata": {
        "id": "I1TsVp26eCtO"
      },
      "source": [
        "## parameters"
      ]
    },
    {
      "cell_type": "code",
      "metadata": {
        "colab": {
          "base_uri": "https://localhost:8080/"
        },
        "id": "i6zGgGp_eCtP",
        "outputId": "48e55d32-ab0d-4f05-c5a4-db235b30ccab"
      },
      "source": [
        "!pip install torchsummary\n",
        "from torchsummary import summary\n",
        "use_cuda = torch.cuda.is_available()\n",
        "device = torch.device(\"cuda\" if use_cuda else \"cpu\")\n",
        "model = Net().to(device)\n",
        "summary(model, input_size=(1, 28, 28))"
      ],
      "execution_count": null,
      "outputs": [
        {
          "output_type": "stream",
          "text": [
            "Requirement already satisfied: torchsummary in /usr/local/lib/python3.7/dist-packages (1.5.1)\n",
            "----------------------------------------------------------------\n",
            "        Layer (type)               Output Shape         Param #\n",
            "================================================================\n",
            "            Conv2d-1            [-1, 8, 26, 26]              72\n",
            "              ReLU-2            [-1, 8, 26, 26]               0\n",
            "       BatchNorm2d-3            [-1, 8, 26, 26]              16\n",
            "            Conv2d-4           [-1, 16, 24, 24]           1,152\n",
            "              ReLU-5           [-1, 16, 24, 24]               0\n",
            "       BatchNorm2d-6           [-1, 16, 24, 24]              32\n",
            "            Conv2d-7           [-1, 32, 22, 22]           4,608\n",
            "              ReLU-8           [-1, 32, 22, 22]               0\n",
            "       BatchNorm2d-9           [-1, 32, 22, 22]              64\n",
            "           Conv2d-10            [-1, 8, 22, 22]             256\n",
            "             ReLU-11            [-1, 8, 22, 22]               0\n",
            "        MaxPool2d-12            [-1, 8, 11, 11]               0\n",
            "           Conv2d-13              [-1, 8, 9, 9]             576\n",
            "             ReLU-14              [-1, 8, 9, 9]               0\n",
            "      BatchNorm2d-15              [-1, 8, 9, 9]              16\n",
            "           Conv2d-16             [-1, 16, 7, 7]           1,152\n",
            "             ReLU-17             [-1, 16, 7, 7]               0\n",
            "      BatchNorm2d-18             [-1, 16, 7, 7]              32\n",
            "           Conv2d-19             [-1, 16, 5, 5]           2,304\n",
            "             ReLU-20             [-1, 16, 5, 5]               0\n",
            "      BatchNorm2d-21             [-1, 16, 5, 5]              32\n",
            "AdaptiveAvgPool2d-22             [-1, 16, 1, 1]               0\n",
            "           Conv2d-23             [-1, 10, 1, 1]             160\n",
            "================================================================\n",
            "Total params: 10,472\n",
            "Trainable params: 10,472\n",
            "Non-trainable params: 0\n",
            "----------------------------------------------------------------\n",
            "Input size (MB): 0.00\n",
            "Forward/backward pass size (MB): 0.80\n",
            "Params size (MB): 0.04\n",
            "Estimated Total Size (MB): 0.84\n",
            "----------------------------------------------------------------\n"
          ],
          "name": "stdout"
        },
        {
          "output_type": "stream",
          "text": [
            "/usr/local/lib/python3.7/dist-packages/ipykernel_launcher.py:77: UserWarning: Implicit dimension choice for log_softmax has been deprecated. Change the call to include dim=X as an argument.\n"
          ],
          "name": "stderr"
        }
      ]
    },
    {
      "cell_type": "code",
      "metadata": {
        "id": "916xvrfFeCtP"
      },
      "source": [
        "torch.manual_seed(1)\n",
        "batch_size = 128\n",
        "\n",
        "kwargs = {'num_workers': 1, 'pin_memory': True} if use_cuda else {}\n",
        "train_loader = torch.utils.data.DataLoader(\n",
        "    datasets.MNIST('../data', train=True, download=True,\n",
        "                    transform=transforms.Compose([\n",
        "                        # transforms.RandomRotation((-7.0, 7.0), fill=(1,)), # Added asjed\n",
        "                        transforms.ToTensor(),\n",
        "                        transforms.Normalize((0.1307,), (0.3081,))\n",
        "                    ])),\n",
        "    batch_size=batch_size, shuffle=True, **kwargs)\n",
        "test_loader = torch.utils.data.DataLoader(\n",
        "    datasets.MNIST('../data', train=False, transform=transforms.Compose([\n",
        "                        transforms.ToTensor(),\n",
        "                        transforms.Normalize((0.1307,), (0.3081,))\n",
        "                    ])),\n",
        "    batch_size=batch_size, shuffle=True, **kwargs)\n"
      ],
      "execution_count": null,
      "outputs": []
    },
    {
      "cell_type": "code",
      "metadata": {
        "id": "moU5ec8feCtP"
      },
      "source": [
        "from tqdm import tqdm\n",
        "\n",
        "train_losses = []\n",
        "test_losses = []\n",
        "train_acc = []\n",
        "test_acc = []\n",
        "\n",
        "\n",
        "def train(model, device, train_loader, optimizer, epoch):\n",
        "    model.train()\n",
        "\n",
        "    pbar = tqdm(train_loader)\n",
        "    correct = 0\n",
        "    processed = 0\n",
        "    for batch_idx, (data, target) in enumerate(pbar):\n",
        "        data, target = data.to(device), target.to(device)\n",
        "        \n",
        "        # init by setting the gradients to zero\n",
        "        optimizer.zero_grad()\n",
        "\n",
        "        #Predict\n",
        "        output = model(data)\n",
        "\n",
        "        #Loss Calculation\n",
        "        loss = F.nll_loss(output, target)\n",
        "        train_losses.append(loss)\n",
        "        \n",
        "        # BackProp\n",
        "        loss.backward()\n",
        "        optimizer.step()\n",
        "\n",
        "        # lr changes\n",
        "        scheduler.step()\n",
        "\n",
        "        pred = output.argmax(dim=1, keepdim=True)  # get the index of the max log-probability\n",
        "        correct += pred.eq(target.view_as(pred)).sum().item()\n",
        "        processed += len(data)\n",
        "\n",
        "        pbar.set_description(desc= f'loss={loss.item()} batch_id={batch_idx} Accuracy={100*correct/processed:0.2f}')\n",
        "    \n",
        "        train_acc.append(100*correct/processed)\n",
        "\n",
        "\n",
        "def test(model, device, test_loader):\n",
        "    model.eval()\n",
        "    test_loss = 0\n",
        "    correct = 0\n",
        "    with torch.no_grad():\n",
        "        for data, target in test_loader:\n",
        "            data, target = data.to(device), target.to(device)\n",
        "            output = model(data)\n",
        "            test_loss += F.nll_loss(output, target, reduction='sum').item()  # sum up batch loss\n",
        "            pred = output.argmax(dim=1, keepdim=True)  # get the index of the max log-probability\n",
        "            correct += pred.eq(target.view_as(pred)).sum().item()\n",
        "\n",
        "    test_loss /= len(test_loader.dataset)\n",
        "    test_losses.append(test_loss)\n",
        "\n",
        "    print('\\nTest set: Average loss: {:.4f}, Accuracy: {}/{} ({:.2f}%)\\n'.format(\n",
        "        test_loss, correct, len(test_loader.dataset),\n",
        "        100. * correct / len(test_loader.dataset)))\n",
        "    \n",
        "    test_acc.append(100. * correct / len(test_loader.dataset))"
      ],
      "execution_count": null,
      "outputs": []
    },
    {
      "cell_type": "markdown",
      "metadata": {
        "id": "1htNpXyfeCtQ"
      },
      "source": [
        "## Training"
      ]
    },
    {
      "cell_type": "code",
      "metadata": {
        "colab": {
          "base_uri": "https://localhost:8080/"
        },
        "id": "LY0Mtny0eCtQ",
        "outputId": "09b6ee5b-6c40-4028-968f-6ced7a6b214b"
      },
      "source": [
        "N_EPOCH = 15\n",
        "BASE_LR = 0.001\n",
        "MAX_LR = 0.15\n",
        "STEP_UP = int(N_EPOCH/5)\n",
        "\n",
        "from torch.optim.lr_scheduler import StepLR\n",
        "\n",
        "model = Net().to(device)\n",
        "optimizer = optim.SGD(model.parameters(), lr=0.01, momentum=0.9)\n",
        "\n",
        "scheduler = torch.optim.lr_scheduler.OneCycleLR(optimizer, \n",
        "                                                max_lr=MAX_LR,\n",
        "                                                steps_per_epoch=len(train_loader),\n",
        "                                                epochs=N_EPOCH)\n",
        "\n",
        "\n",
        "\n",
        "for epoch in range(1, N_EPOCH+1):\n",
        "    print('\\nEpoch {} and Learning Rate {}: '.format(epoch, scheduler.get_last_lr()))\n",
        "    train(model, device, train_loader, optimizer, epoch)\n",
        "    # scheduler.step()\n",
        "    test(model, device, test_loader)"
      ],
      "execution_count": null,
      "outputs": [
        {
          "output_type": "stream",
          "text": [
            "\r  0%|          | 0/469 [00:00<?, ?it/s]"
          ],
          "name": "stderr"
        },
        {
          "output_type": "stream",
          "text": [
            "\n",
            "Epoch 1 and Learning Rate [0.006000000000000005]: \n"
          ],
          "name": "stdout"
        },
        {
          "output_type": "stream",
          "text": [
            "/usr/local/lib/python3.7/dist-packages/ipykernel_launcher.py:77: UserWarning: Implicit dimension choice for log_softmax has been deprecated. Change the call to include dim=X as an argument.\n",
            "loss=0.036800216883420944 batch_id=468 Accuracy=90.90: 100%|██████████| 469/469 [00:17<00:00, 26.95it/s]\n",
            "  0%|          | 0/469 [00:00<?, ?it/s]"
          ],
          "name": "stderr"
        },
        {
          "output_type": "stream",
          "text": [
            "\n",
            "Test set: Average loss: 0.1272, Accuracy: 9612/10000 (96.12%)\n",
            "\n",
            "\n",
            "Epoch 2 and Learning Rate [0.0228601195551989]: \n"
          ],
          "name": "stdout"
        },
        {
          "output_type": "stream",
          "text": [
            "loss=0.03907253220677376 batch_id=468 Accuracy=98.01: 100%|██████████| 469/469 [00:17<00:00, 26.56it/s]\n",
            "  0%|          | 0/469 [00:00<?, ?it/s]"
          ],
          "name": "stderr"
        },
        {
          "output_type": "stream",
          "text": [
            "\n",
            "Test set: Average loss: 0.0662, Accuracy: 9808/10000 (98.08%)\n",
            "\n",
            "\n",
            "Epoch 3 and Learning Rate [0.06554426623702893]: \n"
          ],
          "name": "stdout"
        },
        {
          "output_type": "stream",
          "text": [
            "loss=0.017530130222439766 batch_id=468 Accuracy=98.47: 100%|██████████| 469/469 [00:17<00:00, 26.18it/s]\n",
            "  0%|          | 0/469 [00:00<?, ?it/s]"
          ],
          "name": "stderr"
        },
        {
          "output_type": "stream",
          "text": [
            "\n",
            "Test set: Average loss: 0.0345, Accuracy: 9892/10000 (98.92%)\n",
            "\n",
            "\n",
            "Epoch 4 and Learning Rate [0.11406188959639837]: \n"
          ],
          "name": "stdout"
        },
        {
          "output_type": "stream",
          "text": [
            "loss=0.04129451885819435 batch_id=468 Accuracy=98.71: 100%|██████████| 469/469 [00:17<00:00, 27.28it/s]\n",
            "  0%|          | 0/469 [00:00<?, ?it/s]"
          ],
          "name": "stderr"
        },
        {
          "output_type": "stream",
          "text": [
            "\n",
            "Test set: Average loss: 0.0394, Accuracy: 9881/10000 (98.81%)\n",
            "\n",
            "\n",
            "Epoch 5 and Learning Rate [0.14569040823405507]: \n"
          ],
          "name": "stdout"
        },
        {
          "output_type": "stream",
          "text": [
            "loss=0.003119424916803837 batch_id=468 Accuracy=98.94: 100%|██████████| 469/469 [00:17<00:00, 26.71it/s]\n",
            "  0%|          | 0/469 [00:00<?, ?it/s]"
          ],
          "name": "stderr"
        },
        {
          "output_type": "stream",
          "text": [
            "\n",
            "Test set: Average loss: 0.0281, Accuracy: 9913/10000 (99.13%)\n",
            "\n",
            "\n",
            "Epoch 6 and Learning Rate [0.1491551691239221]: \n"
          ],
          "name": "stdout"
        },
        {
          "output_type": "stream",
          "text": [
            "loss=0.03509989008307457 batch_id=468 Accuracy=99.04: 100%|██████████| 469/469 [00:17<00:00, 26.56it/s]\n",
            "  0%|          | 0/469 [00:00<?, ?it/s]"
          ],
          "name": "stderr"
        },
        {
          "output_type": "stream",
          "text": [
            "\n",
            "Test set: Average loss: 0.0258, Accuracy: 9919/10000 (99.19%)\n",
            "\n",
            "\n",
            "Epoch 7 and Learning Rate [0.14255192137417153]: \n"
          ],
          "name": "stdout"
        },
        {
          "output_type": "stream",
          "text": [
            "loss=0.029933614656329155 batch_id=468 Accuracy=99.19: 100%|██████████| 469/469 [00:17<00:00, 26.38it/s]\n",
            "  0%|          | 0/469 [00:00<?, ?it/s]"
          ],
          "name": "stderr"
        },
        {
          "output_type": "stream",
          "text": [
            "\n",
            "Test set: Average loss: 0.0263, Accuracy: 9917/10000 (99.17%)\n",
            "\n",
            "\n",
            "Epoch 8 and Learning Rate [0.12994641561991813]: \n"
          ],
          "name": "stdout"
        },
        {
          "output_type": "stream",
          "text": [
            "loss=0.008031661622226238 batch_id=468 Accuracy=99.27: 100%|██████████| 469/469 [00:17<00:00, 26.52it/s]\n",
            "  0%|          | 0/469 [00:00<?, ?it/s]"
          ],
          "name": "stderr"
        },
        {
          "output_type": "stream",
          "text": [
            "\n",
            "Test set: Average loss: 0.0249, Accuracy: 9924/10000 (99.24%)\n",
            "\n",
            "\n",
            "Epoch 9 and Learning Rate [0.1124587063657782]: \n"
          ],
          "name": "stdout"
        },
        {
          "output_type": "stream",
          "text": [
            "loss=0.008840284310281277 batch_id=468 Accuracy=99.42: 100%|██████████| 469/469 [00:17<00:00, 26.36it/s]\n",
            "  0%|          | 0/469 [00:00<?, ?it/s]"
          ],
          "name": "stderr"
        },
        {
          "output_type": "stream",
          "text": [
            "\n",
            "Test set: Average loss: 0.0222, Accuracy: 9935/10000 (99.35%)\n",
            "\n",
            "\n",
            "Epoch 10 and Learning Rate [0.09164265332253009]: \n"
          ],
          "name": "stdout"
        },
        {
          "output_type": "stream",
          "text": [
            "loss=0.05460173264145851 batch_id=468 Accuracy=99.48: 100%|██████████| 469/469 [00:18<00:00, 25.99it/s]\n",
            "  0%|          | 0/469 [00:00<?, ?it/s]"
          ],
          "name": "stderr"
        },
        {
          "output_type": "stream",
          "text": [
            "\n",
            "Test set: Average loss: 0.0220, Accuracy: 9935/10000 (99.35%)\n",
            "\n",
            "\n",
            "Epoch 11 and Learning Rate [0.06934785415281057]: \n"
          ],
          "name": "stdout"
        },
        {
          "output_type": "stream",
          "text": [
            "loss=0.0041853501461446285 batch_id=468 Accuracy=99.56: 100%|██████████| 469/469 [00:17<00:00, 27.04it/s]\n",
            "  0%|          | 0/469 [00:00<?, ?it/s]"
          ],
          "name": "stderr"
        },
        {
          "output_type": "stream",
          "text": [
            "\n",
            "Test set: Average loss: 0.0197, Accuracy: 9929/10000 (99.29%)\n",
            "\n",
            "\n",
            "Epoch 12 and Learning Rate [0.04755529960196385]: \n"
          ],
          "name": "stdout"
        },
        {
          "output_type": "stream",
          "text": [
            "loss=0.004390938673168421 batch_id=468 Accuracy=99.61: 100%|██████████| 469/469 [00:17<00:00, 26.31it/s]\n",
            "  0%|          | 0/469 [00:00<?, ?it/s]"
          ],
          "name": "stderr"
        },
        {
          "output_type": "stream",
          "text": [
            "\n",
            "Test set: Average loss: 0.0183, Accuracy: 9939/10000 (99.39%)\n",
            "\n",
            "\n",
            "Epoch 13 and Learning Rate [0.028201353776883133]: \n"
          ],
          "name": "stdout"
        },
        {
          "output_type": "stream",
          "text": [
            "loss=0.0027310934383422136 batch_id=468 Accuracy=99.75: 100%|██████████| 469/469 [00:17<00:00, 26.28it/s]\n",
            "  0%|          | 0/469 [00:00<?, ?it/s]"
          ],
          "name": "stderr"
        },
        {
          "output_type": "stream",
          "text": [
            "\n",
            "Test set: Average loss: 0.0168, Accuracy: 9946/10000 (99.46%)\n",
            "\n",
            "\n",
            "Epoch 14 and Learning Rate [0.013005699697519156]: \n"
          ],
          "name": "stdout"
        },
        {
          "output_type": "stream",
          "text": [
            "loss=0.0017765542725101113 batch_id=468 Accuracy=99.81: 100%|██████████| 469/469 [00:17<00:00, 26.18it/s]\n",
            "  0%|          | 0/469 [00:00<?, ?it/s]"
          ],
          "name": "stderr"
        },
        {
          "output_type": "stream",
          "text": [
            "\n",
            "Test set: Average loss: 0.0175, Accuracy: 9947/10000 (99.47%)\n",
            "\n",
            "\n",
            "Epoch 15 and Learning Rate [0.0033185379138529515]: \n"
          ],
          "name": "stdout"
        },
        {
          "output_type": "stream",
          "text": [
            "loss=0.002154627116397023 batch_id=468 Accuracy=99.86: 100%|██████████| 469/469 [00:17<00:00, 26.48it/s]\n"
          ],
          "name": "stderr"
        },
        {
          "output_type": "stream",
          "text": [
            "\n",
            "Test set: Average loss: 0.0171, Accuracy: 9949/10000 (99.49%)\n",
            "\n"
          ],
          "name": "stdout"
        }
      ]
    },
    {
      "cell_type": "markdown",
      "metadata": {
        "id": "Nak_Wm9keCtQ"
      },
      "source": [
        "## Logs"
      ]
    },
    {
      "cell_type": "code",
      "metadata": {
        "id": "mUaBXVbleCtQ",
        "colab": {
          "base_uri": "https://localhost:8080/",
          "height": 624
        },
        "outputId": "6d8f673f-9f6d-465a-e6f7-418473908b04"
      },
      "source": [
        "%matplotlib inline\n",
        "import matplotlib.pyplot as plt\n",
        "\n",
        "fig, axs = plt.subplots(2,2,figsize=(15,10))\n",
        "axs[0, 0].plot(train_losses)\n",
        "axs[0, 0].set_title(\"Training Loss\")\n",
        "axs[1, 0].plot(train_acc[4000:])\n",
        "axs[1, 0].set_title(\"Training Accuracy\")\n",
        "axs[0, 1].plot(test_losses)\n",
        "axs[0, 1].set_title(\"Test Loss\")\n",
        "axs[1, 1].plot(test_acc)\n",
        "axs[1, 1].set_title(\"Test Accuracy\")"
      ],
      "execution_count": null,
      "outputs": [
        {
          "output_type": "execute_result",
          "data": {
            "text/plain": [
              "Text(0.5, 1.0, 'Test Accuracy')"
            ]
          },
          "metadata": {
            "tags": []
          },
          "execution_count": 8
        },
        {
          "output_type": "display_data",
          "data": {
            "image/png": "[encoded data removed]",
            "text/plain": [
              "<Figure size 1080x720 with 4 Axes>"
            ]
          },
          "metadata": {
            "tags": [],
            "needs_background": "light"
          }
        }
      ]
    },
    {
      "cell_type": "code",
      "metadata": {
        "id": "3bBlUXJzAaQZ"
      },
      "source": [
        ""
      ],
      "execution_count": null,
      "outputs": []
    }
  ]
}