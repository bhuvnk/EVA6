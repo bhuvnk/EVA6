{
  "nbformat": 4,
  "nbformat_minor": 0,
  "metadata": {
    "colab": {
      "name": "Model Training Drill Down 03.ipynb",
      "provenance": [],
      "collapsed_sections": [],
      "include_colab_link": true
    },
    "kernelspec": {
      "name": "python3",
      "display_name": "Python 3"
    },
    "accelerator": "GPU"
  },
  "cells": [
    {
      "cell_type": "markdown",
      "metadata": {
        "id": "view-in-github",
        "colab_type": "text"
      },
      "source": [
        "<a href=\"https://colab.research.google.com/github/bhuvnk/EVA6/blob/main/Session%205%20Coding%20Drill%20Down%20/%20Model_Training_Drill_Down_03.ipynb\" target=\"_parent\"><img src=\"https://colab.research.google.com/assets/colab-badge.svg\" alt=\"Open In Colab\"/></a>"
      ]
    },
    {
      "cell_type": "markdown",
      "metadata": {
        "id": "N0jjb5j1-UMJ"
      },
      "source": [
        "### 1. Target\n",
        "\n",
        "- Trim the parameters below 8000\n",
        "- Dropout=0.069 after each layer to avoid all overfitting\n",
        "- no augmentation\n",
        "- OneCycleLR from get go; because it works!!\n",
        "\n",
        "### 2. Result\n",
        "\n",
        "- Params: `7_864`\n",
        "- Best Train Accuracy: `98.03%`\n",
        "- Best Test Accuracy : `99.37%`\n",
        "\n",
        "### 3. Analysis\n",
        "\n",
        "- No overfitting\n",
        "- Now time to add some data augmentations"
      ]
    },
    {
      "cell_type": "markdown",
      "metadata": {
        "id": "zo1TRJKuxyzt"
      },
      "source": [
        "## Model\n",
        "\n",
        "## BaseLine Model\n",
        "\n",
        "- Convolution Block 1\n",
        "    - `Conv2D:  1, 14, 3; pad = 1; Out: 28x28x16`\n",
        "    - `Conv2D: 14, 28, 3; pad = 1; Out: 28x28x32`\n",
        "- Transition Block\n",
        "    - `Conv2D: 28,  8, 1; Out: 24x24x8`\n",
        "    - `MaxPool2D: 2x2;    Out: 12x12x8`\n",
        "- Convolution Block 2\n",
        "    - `Conv2D:  8,  12, 3; Out: 10x10x8`\n",
        "    - `Conv2D: 12, 12, 3; Out: 8x8x16`\n",
        "    - `Conv2D: 12, 16, 3; Out: 6x6x16`\n",
        "    - `Conv2D: 16, 16, 3; Out: 4x4x16`\n",
        "- Output GAP\n",
        "    - `AdaptiveAvgPool2d: -;  Out: 1x1x14`\n",
        "    - `Conv2D:  -, 10, 1; Out: 1x1x10`"
      ]
    },
    {
      "cell_type": "code",
      "metadata": {
        "colab": {
          "base_uri": "https://localhost:8080/"
        },
        "id": "PptY8gN7zFSL",
        "outputId": "dc79a7a7-43ee-4dc3-8e16-64c0c01f5999"
      },
      "source": [
        "!nvidia-smi"
      ],
      "execution_count": 1,
      "outputs": [
        {
          "output_type": "stream",
          "text": [
            "Fri Jun  4 21:30:36 2021       \n",
            "+-----------------------------------------------------------------------------+\n",
            "| NVIDIA-SMI 465.27       Driver Version: 460.32.03    CUDA Version: 11.2     |\n",
            "|-------------------------------+----------------------+----------------------+\n",
            "| GPU  Name        Persistence-M| Bus-Id        Disp.A | Volatile Uncorr. ECC |\n",
            "| Fan  Temp  Perf  Pwr:Usage/Cap|         Memory-Usage | GPU-Util  Compute M. |\n",
            "|                               |                      |               MIG M. |\n",
            "|===============================+======================+======================|\n",
            "|   0  Tesla P100-PCIE...  Off  | 00000000:00:04.0 Off |                    0 |\n",
            "| N/A   38C    P0    29W / 250W |      0MiB / 16280MiB |      0%      Default |\n",
            "|                               |                      |                  N/A |\n",
            "+-------------------------------+----------------------+----------------------+\n",
            "                                                                               \n",
            "+-----------------------------------------------------------------------------+\n",
            "| Processes:                                                                  |\n",
            "|  GPU   GI   CI        PID   Type   Process name                  GPU Memory |\n",
            "|        ID   ID                                                   Usage      |\n",
            "|=============================================================================|\n",
            "|  No running processes found                                                 |\n",
            "+-----------------------------------------------------------------------------+\n"
          ],
          "name": "stdout"
        }
      ]
    },
    {
      "cell_type": "code",
      "metadata": {
        "id": "0m2JWFliFfKT"
      },
      "source": [
        "from __future__ import print_function\n",
        "import torch\n",
        "import torch.nn as nn\n",
        "import torch.nn.functional as F\n",
        "import torch.optim as optim\n",
        "from torchvision import datasets, transforms"
      ],
      "execution_count": 2,
      "outputs": []
    },
    {
      "cell_type": "code",
      "metadata": {
        "id": "Vh1D07axeCtL"
      },
      "source": [
        "drop_value = 0.069\n",
        "class Net(nn.Module):\n",
        "    def __init__(self):\n",
        "        super(Net, self).__init__()\n",
        "\n",
        "        # dims : [28,28,1];\n",
        "        self.conv1 = nn.Sequential(\n",
        "            nn.Conv2d(1, 8, 3, padding = 1, bias=False), # 28\n",
        "            nn.ReLU(),\n",
        "            nn.BatchNorm2d(8),\n",
        "            nn.Dropout2d(drop_value),\n",
        "            # RF - 3x3\n",
        "\n",
        "            nn.Conv2d(8, 16, 3, padding = 1, bias=False), # 28\n",
        "            nn.ReLU(),\n",
        "            nn.BatchNorm2d(16),\n",
        "            nn.Dropout2d(drop_value),\n",
        "            # RF - 5x5\n",
        "        )\n",
        "\n",
        "        # dims : [28x28x32]\n",
        "        # Bottle neck - Transition layer\n",
        "\n",
        "        self.trans1 = nn.Sequential(\n",
        "            nn.Conv2d(16, 8, 1, bias=False), # 28\n",
        "            nn.ReLU(),\n",
        "            # RF - 7x7\n",
        "\n",
        "            nn.MaxPool2d(2, 2), # 14\n",
        "            # RF - 14x14\n",
        "        )\n",
        "\n",
        "        # dims : [14x14x8]\n",
        "        \n",
        "        self.conv2 = nn.Sequential(\n",
        "            nn.Conv2d(8, 12, 3, bias=False), # 12\n",
        "            nn.ReLU(),\n",
        "            nn.BatchNorm2d(12),\n",
        "            nn.Dropout2d(drop_value),\n",
        "            # RF - 16x16\n",
        "\n",
        "            nn.Conv2d(12, 12, 3, bias=False), # 10\n",
        "            nn.ReLU(),\n",
        "            nn.BatchNorm2d(12),\n",
        "            nn.Dropout2d(drop_value),\n",
        "            # RF - 18x18\n",
        "\n",
        "            nn.Conv2d(12, 16, 3, bias=False), # 8\n",
        "            nn.ReLU(),\n",
        "            nn.BatchNorm2d(16),\n",
        "            nn.Dropout2d(drop_value),\n",
        "            # RF - 20x20\n",
        "\n",
        "            nn.Conv2d(16, 16, 3, bias=False), # 4\n",
        "            nn.ReLU(),\n",
        "            nn.BatchNorm2d(16),\n",
        "            nn.Dropout2d(drop_value),\n",
        "            # RF - 22x22\n",
        "        )\n",
        "\n",
        "        # dims : 4x4x32\n",
        "\n",
        "        # GAP Layer\n",
        "        self.out = nn.Sequential(\n",
        "            nn.AdaptiveAvgPool2d((1,1)),       # \n",
        "            nn.Conv2d(16, 10, 1, bias=False), # 6\n",
        "            # RF - 20x20\n",
        "        )\n",
        "\n",
        "    def forward(self, x):\n",
        "        x = self.conv1(x)\n",
        "        x = self.trans1(x)\n",
        "        x = self.conv2(x)\n",
        "        x = self.out(x)\n",
        "\n",
        "        x = x.view(-1, 10)\n",
        "        return F.log_softmax(x)"
      ],
      "execution_count": 3,
      "outputs": []
    },
    {
      "cell_type": "markdown",
      "metadata": {
        "id": "I1TsVp26eCtO"
      },
      "source": [
        "## parameters"
      ]
    },
    {
      "cell_type": "code",
      "metadata": {
        "colab": {
          "base_uri": "https://localhost:8080/"
        },
        "id": "i6zGgGp_eCtP",
        "outputId": "aed4d0fd-5021-4b1a-b6bd-102b8519be0c"
      },
      "source": [
        "!pip install torchsummary\n",
        "from torchsummary import summary\n",
        "use_cuda = torch.cuda.is_available()\n",
        "device = torch.device(\"cuda\" if use_cuda else \"cpu\")\n",
        "model = Net().to(device)\n",
        "summary(model, input_size=(1, 28, 28))"
      ],
      "execution_count": 4,
      "outputs": [
        {
          "output_type": "stream",
          "text": [
            "Requirement already satisfied: torchsummary in /usr/local/lib/python3.7/dist-packages (1.5.1)\n",
            "----------------------------------------------------------------\n",
            "        Layer (type)               Output Shape         Param #\n",
            "================================================================\n",
            "            Conv2d-1            [-1, 8, 28, 28]              72\n",
            "              ReLU-2            [-1, 8, 28, 28]               0\n",
            "       BatchNorm2d-3            [-1, 8, 28, 28]              16\n",
            "         Dropout2d-4            [-1, 8, 28, 28]               0\n",
            "            Conv2d-5           [-1, 16, 28, 28]           1,152\n",
            "              ReLU-6           [-1, 16, 28, 28]               0\n",
            "       BatchNorm2d-7           [-1, 16, 28, 28]              32\n",
            "         Dropout2d-8           [-1, 16, 28, 28]               0\n",
            "            Conv2d-9            [-1, 8, 28, 28]             128\n",
            "             ReLU-10            [-1, 8, 28, 28]               0\n",
            "        MaxPool2d-11            [-1, 8, 14, 14]               0\n",
            "           Conv2d-12           [-1, 12, 12, 12]             864\n",
            "             ReLU-13           [-1, 12, 12, 12]               0\n",
            "      BatchNorm2d-14           [-1, 12, 12, 12]              24\n",
            "        Dropout2d-15           [-1, 12, 12, 12]               0\n",
            "           Conv2d-16           [-1, 12, 10, 10]           1,296\n",
            "             ReLU-17           [-1, 12, 10, 10]               0\n",
            "      BatchNorm2d-18           [-1, 12, 10, 10]              24\n",
            "        Dropout2d-19           [-1, 12, 10, 10]               0\n",
            "           Conv2d-20             [-1, 16, 8, 8]           1,728\n",
            "             ReLU-21             [-1, 16, 8, 8]               0\n",
            "      BatchNorm2d-22             [-1, 16, 8, 8]              32\n",
            "        Dropout2d-23             [-1, 16, 8, 8]               0\n",
            "           Conv2d-24             [-1, 16, 6, 6]           2,304\n",
            "             ReLU-25             [-1, 16, 6, 6]               0\n",
            "      BatchNorm2d-26             [-1, 16, 6, 6]              32\n",
            "        Dropout2d-27             [-1, 16, 6, 6]               0\n",
            "AdaptiveAvgPool2d-28             [-1, 16, 1, 1]               0\n",
            "           Conv2d-29             [-1, 10, 1, 1]             160\n",
            "================================================================\n",
            "Total params: 7,864\n",
            "Trainable params: 7,864\n",
            "Non-trainable params: 0\n",
            "----------------------------------------------------------------\n",
            "Input size (MB): 0.00\n",
            "Forward/backward pass size (MB): 0.82\n",
            "Params size (MB): 0.03\n",
            "Estimated Total Size (MB): 0.85\n",
            "----------------------------------------------------------------\n"
          ],
          "name": "stdout"
        },
        {
          "output_type": "stream",
          "text": [
            "/usr/local/lib/python3.7/dist-packages/ipykernel_launcher.py:76: UserWarning: Implicit dimension choice for log_softmax has been deprecated. Change the call to include dim=X as an argument.\n"
          ],
          "name": "stderr"
        }
      ]
    },
    {
      "cell_type": "code",
      "metadata": {
        "id": "916xvrfFeCtP"
      },
      "source": [
        "torch.manual_seed(1)\n",
        "batch_size = 128\n",
        "\n",
        "kwargs = {'num_workers': 1, 'pin_memory': True} if use_cuda else {}\n",
        "train_loader = torch.utils.data.DataLoader(\n",
        "    datasets.MNIST('../data', train=True, download=True,\n",
        "                    transform=transforms.Compose([\n",
        "                        transforms.ToTensor(),\n",
        "                        transforms.Normalize((0.1307,), (0.3081,))\n",
        "                    ])),\n",
        "    batch_size=batch_size, shuffle=True, **kwargs)\n",
        "test_loader = torch.utils.data.DataLoader(\n",
        "    datasets.MNIST('../data', train=False, transform=transforms.Compose([\n",
        "                        transforms.ToTensor(),\n",
        "                        transforms.Normalize((0.1307,), (0.3081,))\n",
        "                    ])),\n",
        "    batch_size=batch_size, shuffle=True, **kwargs)\n"
      ],
      "execution_count": 5,
      "outputs": []
    },
    {
      "cell_type": "code",
      "metadata": {
        "id": "moU5ec8feCtP"
      },
      "source": [
        "from tqdm import tqdm\n",
        "\n",
        "train_losses = []\n",
        "test_losses = []\n",
        "train_acc = []\n",
        "test_acc = []\n",
        "\n",
        "\n",
        "def train(model, device, train_loader, optimizer, epoch):\n",
        "    model.train()\n",
        "\n",
        "    pbar = tqdm(train_loader)\n",
        "    correct = 0\n",
        "    processed = 0\n",
        "    for batch_idx, (data, target) in enumerate(pbar):\n",
        "        data, target = data.to(device), target.to(device)\n",
        "        \n",
        "        # init by setting the gradients to zero\n",
        "        optimizer.zero_grad()\n",
        "\n",
        "        #Predict\n",
        "        output = model(data)\n",
        "\n",
        "        #Loss Calculation\n",
        "        loss = F.nll_loss(output, target)\n",
        "        train_losses.append(loss)\n",
        "        \n",
        "        # BackProp\n",
        "        loss.backward()\n",
        "        optimizer.step()\n",
        "\n",
        "        # lr changes\n",
        "        scheduler.step()\n",
        "\n",
        "        pred = output.argmax(dim=1, keepdim=True)  # get the index of the max log-probability\n",
        "        correct += pred.eq(target.view_as(pred)).sum().item()\n",
        "        processed += len(data)\n",
        "\n",
        "        pbar.set_description(desc= f'loss={loss.item()} batch_id={batch_idx} Accuracy={100*correct/processed:0.2f}')\n",
        "    \n",
        "        train_acc.append(100*correct/processed)\n",
        "\n",
        "\n",
        "def test(model, device, test_loader):\n",
        "    model.eval()\n",
        "    test_loss = 0\n",
        "    correct = 0\n",
        "    with torch.no_grad():\n",
        "        for data, target in test_loader:\n",
        "            data, target = data.to(device), target.to(device)\n",
        "            output = model(data)\n",
        "            test_loss += F.nll_loss(output, target, reduction='sum').item()  # sum up batch loss\n",
        "            pred = output.argmax(dim=1, keepdim=True)  # get the index of the max log-probability\n",
        "            correct += pred.eq(target.view_as(pred)).sum().item()\n",
        "\n",
        "    test_loss /= len(test_loader.dataset)\n",
        "    test_losses.append(test_loss)\n",
        "\n",
        "    print('\\nTest set: Average loss: {:.4f}, Accuracy: {}/{} ({:.2f}%)\\n'.format(\n",
        "        test_loss, correct, len(test_loader.dataset),\n",
        "        100. * correct / len(test_loader.dataset)))\n",
        "    \n",
        "    test_acc.append(100. * correct / len(test_loader.dataset))"
      ],
      "execution_count": 6,
      "outputs": []
    },
    {
      "cell_type": "markdown",
      "metadata": {
        "id": "1htNpXyfeCtQ"
      },
      "source": [
        "## Training"
      ]
    },
    {
      "cell_type": "code",
      "metadata": {
        "colab": {
          "base_uri": "https://localhost:8080/"
        },
        "id": "LY0Mtny0eCtQ",
        "outputId": "5dfe276b-9018-4005-9218-7b8e885e039d"
      },
      "source": [
        "N_EPOCH = 15\n",
        "BASE_LR = 0.001\n",
        "MAX_LR = 0.15\n",
        "STEP_UP = int(N_EPOCH/5)\n",
        "\n",
        "from torch.optim.lr_scheduler import StepLR\n",
        "\n",
        "model = Net().to(device)\n",
        "optimizer = optim.SGD(model.parameters(), lr=0.01, momentum=0.9)\n",
        "\n",
        "scheduler = torch.optim.lr_scheduler.OneCycleLR(optimizer, \n",
        "                                                max_lr=MAX_LR,\n",
        "                                                steps_per_epoch=len(train_loader),\n",
        "                                                epochs=N_EPOCH)\n",
        "\n",
        "\n",
        "\n",
        "for epoch in range(1, N_EPOCH+1):\n",
        "    print('\\nEpoch {} and Learning Rate {}: '.format(epoch, scheduler.get_last_lr()))\n",
        "    train(model, device, train_loader, optimizer, epoch)\n",
        "    # scheduler.step()\n",
        "    test(model, device, test_loader)"
      ],
      "execution_count": 7,
      "outputs": [
        {
          "output_type": "stream",
          "text": [
            "\r  0%|          | 0/469 [00:00<?, ?it/s]"
          ],
          "name": "stderr"
        },
        {
          "output_type": "stream",
          "text": [
            "\n",
            "Epoch 1 and Learning Rate [0.006000000000000005]: \n"
          ],
          "name": "stdout"
        },
        {
          "output_type": "stream",
          "text": [
            "/usr/local/lib/python3.7/dist-packages/ipykernel_launcher.py:76: UserWarning: Implicit dimension choice for log_softmax has been deprecated. Change the call to include dim=X as an argument.\n",
            "loss=0.17542307078838348 batch_id=468 Accuracy=84.42: 100%|██████████| 469/469 [00:11<00:00, 42.13it/s]\n",
            "  0%|          | 0/469 [00:00<?, ?it/s]"
          ],
          "name": "stderr"
        },
        {
          "output_type": "stream",
          "text": [
            "\n",
            "Test set: Average loss: 0.0854, Accuracy: 9743/10000 (97.43%)\n",
            "\n",
            "\n",
            "Epoch 2 and Learning Rate [0.0228601195551989]: \n"
          ],
          "name": "stdout"
        },
        {
          "output_type": "stream",
          "text": [
            "loss=0.06098751351237297 batch_id=468 Accuracy=96.33: 100%|██████████| 469/469 [00:11<00:00, 42.06it/s]\n",
            "  0%|          | 0/469 [00:00<?, ?it/s]"
          ],
          "name": "stderr"
        },
        {
          "output_type": "stream",
          "text": [
            "\n",
            "Test set: Average loss: 0.0588, Accuracy: 9815/10000 (98.15%)\n",
            "\n",
            "\n",
            "Epoch 3 and Learning Rate [0.06554426623702893]: \n"
          ],
          "name": "stdout"
        },
        {
          "output_type": "stream",
          "text": [
            "loss=0.10379647463560104 batch_id=468 Accuracy=97.28: 100%|██████████| 469/469 [00:11<00:00, 42.28it/s]\n",
            "  0%|          | 0/469 [00:00<?, ?it/s]"
          ],
          "name": "stderr"
        },
        {
          "output_type": "stream",
          "text": [
            "\n",
            "Test set: Average loss: 0.0578, Accuracy: 9802/10000 (98.02%)\n",
            "\n",
            "\n",
            "Epoch 4 and Learning Rate [0.11406188959639837]: \n"
          ],
          "name": "stdout"
        },
        {
          "output_type": "stream",
          "text": [
            "loss=0.13021399080753326 batch_id=468 Accuracy=97.64: 100%|██████████| 469/469 [00:11<00:00, 41.85it/s]\n",
            "  0%|          | 0/469 [00:00<?, ?it/s]"
          ],
          "name": "stderr"
        },
        {
          "output_type": "stream",
          "text": [
            "\n",
            "Test set: Average loss: 0.0299, Accuracy: 9906/10000 (99.06%)\n",
            "\n",
            "\n",
            "Epoch 5 and Learning Rate [0.14569040823405507]: \n"
          ],
          "name": "stdout"
        },
        {
          "output_type": "stream",
          "text": [
            "loss=0.10168397426605225 batch_id=468 Accuracy=98.01: 100%|██████████| 469/469 [00:11<00:00, 42.36it/s]\n",
            "  0%|          | 0/469 [00:00<?, ?it/s]"
          ],
          "name": "stderr"
        },
        {
          "output_type": "stream",
          "text": [
            "\n",
            "Test set: Average loss: 0.0267, Accuracy: 9914/10000 (99.14%)\n",
            "\n",
            "\n",
            "Epoch 6 and Learning Rate [0.1491551691239221]: \n"
          ],
          "name": "stdout"
        },
        {
          "output_type": "stream",
          "text": [
            "loss=0.052627500146627426 batch_id=468 Accuracy=98.13: 100%|██████████| 469/469 [00:11<00:00, 41.27it/s]\n",
            "  0%|          | 0/469 [00:00<?, ?it/s]"
          ],
          "name": "stderr"
        },
        {
          "output_type": "stream",
          "text": [
            "\n",
            "Test set: Average loss: 0.0306, Accuracy: 9894/10000 (98.94%)\n",
            "\n",
            "\n",
            "Epoch 7 and Learning Rate [0.14255192137417153]: \n"
          ],
          "name": "stdout"
        },
        {
          "output_type": "stream",
          "text": [
            "loss=0.0508260540664196 batch_id=468 Accuracy=98.25: 100%|██████████| 469/469 [00:11<00:00, 41.19it/s]\n",
            "  0%|          | 0/469 [00:00<?, ?it/s]"
          ],
          "name": "stderr"
        },
        {
          "output_type": "stream",
          "text": [
            "\n",
            "Test set: Average loss: 0.0251, Accuracy: 9932/10000 (99.32%)\n",
            "\n",
            "\n",
            "Epoch 8 and Learning Rate [0.12994641561991813]: \n"
          ],
          "name": "stdout"
        },
        {
          "output_type": "stream",
          "text": [
            "loss=0.048379670828580856 batch_id=468 Accuracy=98.29: 100%|██████████| 469/469 [00:11<00:00, 42.08it/s]\n",
            "  0%|          | 0/469 [00:00<?, ?it/s]"
          ],
          "name": "stderr"
        },
        {
          "output_type": "stream",
          "text": [
            "\n",
            "Test set: Average loss: 0.0283, Accuracy: 9909/10000 (99.09%)\n",
            "\n",
            "\n",
            "Epoch 9 and Learning Rate [0.1124587063657782]: \n"
          ],
          "name": "stdout"
        },
        {
          "output_type": "stream",
          "text": [
            "loss=0.04005671292543411 batch_id=468 Accuracy=98.53: 100%|██████████| 469/469 [00:11<00:00, 41.25it/s]\n",
            "  0%|          | 0/469 [00:00<?, ?it/s]"
          ],
          "name": "stderr"
        },
        {
          "output_type": "stream",
          "text": [
            "\n",
            "Test set: Average loss: 0.0244, Accuracy: 9920/10000 (99.20%)\n",
            "\n",
            "\n",
            "Epoch 10 and Learning Rate [0.09164265332253009]: \n"
          ],
          "name": "stdout"
        },
        {
          "output_type": "stream",
          "text": [
            "loss=0.03393154218792915 batch_id=468 Accuracy=98.59: 100%|██████████| 469/469 [00:11<00:00, 41.88it/s]\n",
            "  0%|          | 0/469 [00:00<?, ?it/s]"
          ],
          "name": "stderr"
        },
        {
          "output_type": "stream",
          "text": [
            "\n",
            "Test set: Average loss: 0.0233, Accuracy: 9924/10000 (99.24%)\n",
            "\n",
            "\n",
            "Epoch 11 and Learning Rate [0.06934785415281057]: \n"
          ],
          "name": "stdout"
        },
        {
          "output_type": "stream",
          "text": [
            "loss=0.02983286790549755 batch_id=468 Accuracy=98.66: 100%|██████████| 469/469 [00:11<00:00, 41.38it/s]\n",
            "  0%|          | 0/469 [00:00<?, ?it/s]"
          ],
          "name": "stderr"
        },
        {
          "output_type": "stream",
          "text": [
            "\n",
            "Test set: Average loss: 0.0215, Accuracy: 9933/10000 (99.33%)\n",
            "\n",
            "\n",
            "Epoch 12 and Learning Rate [0.04755529960196385]: \n"
          ],
          "name": "stdout"
        },
        {
          "output_type": "stream",
          "text": [
            "loss=0.03705906867980957 batch_id=468 Accuracy=98.81: 100%|██████████| 469/469 [00:11<00:00, 41.60it/s]\n",
            "  0%|          | 0/469 [00:00<?, ?it/s]"
          ],
          "name": "stderr"
        },
        {
          "output_type": "stream",
          "text": [
            "\n",
            "Test set: Average loss: 0.0212, Accuracy: 9921/10000 (99.21%)\n",
            "\n",
            "\n",
            "Epoch 13 and Learning Rate [0.028201353776883133]: \n"
          ],
          "name": "stdout"
        },
        {
          "output_type": "stream",
          "text": [
            "loss=0.04784274473786354 batch_id=468 Accuracy=98.93: 100%|██████████| 469/469 [00:11<00:00, 41.76it/s]\n",
            "  0%|          | 0/469 [00:00<?, ?it/s]"
          ],
          "name": "stderr"
        },
        {
          "output_type": "stream",
          "text": [
            "\n",
            "Test set: Average loss: 0.0205, Accuracy: 9937/10000 (99.37%)\n",
            "\n",
            "\n",
            "Epoch 14 and Learning Rate [0.013005699697519156]: \n"
          ],
          "name": "stdout"
        },
        {
          "output_type": "stream",
          "text": [
            "loss=0.049646005034446716 batch_id=468 Accuracy=98.93: 100%|██████████| 469/469 [00:11<00:00, 40.61it/s]\n",
            "  0%|          | 0/469 [00:00<?, ?it/s]"
          ],
          "name": "stderr"
        },
        {
          "output_type": "stream",
          "text": [
            "\n",
            "Test set: Average loss: 0.0188, Accuracy: 9929/10000 (99.29%)\n",
            "\n",
            "\n",
            "Epoch 15 and Learning Rate [0.0033185379138529515]: \n"
          ],
          "name": "stdout"
        },
        {
          "output_type": "stream",
          "text": [
            "loss=0.024728812277317047 batch_id=468 Accuracy=99.03: 100%|██████████| 469/469 [00:11<00:00, 41.42it/s]\n"
          ],
          "name": "stderr"
        },
        {
          "output_type": "stream",
          "text": [
            "\n",
            "Test set: Average loss: 0.0190, Accuracy: 9933/10000 (99.33%)\n",
            "\n"
          ],
          "name": "stdout"
        }
      ]
    },
    {
      "cell_type": "markdown",
      "metadata": {
        "id": "Nak_Wm9keCtQ"
      },
      "source": [
        "## Logs"
      ]
    },
    {
      "cell_type": "code",
      "metadata": {
        "colab": {
          "base_uri": "https://localhost:8080/",
          "height": 624
        },
        "id": "0tEhO9r-2dn2",
        "outputId": "3a8a4714-f2ab-435c-f226-2fda60c964c1"
      },
      "source": [
        "%matplotlib inline\n",
        "import matplotlib.pyplot as plt\n",
        "\n",
        "fig, axs = plt.subplots(2,2,figsize=(15,10))\n",
        "axs[0, 0].plot(train_losses)\n",
        "axs[0, 0].set_title(\"Training Loss\")\n",
        "axs[1, 0].plot(train_acc[4000:])\n",
        "axs[1, 0].set_title(\"Training Accuracy\")\n",
        "axs[0, 1].plot(test_losses)\n",
        "axs[0, 1].set_title(\"Test Loss\")\n",
        "axs[1, 1].plot(test_acc)\n",
        "axs[1, 1].set_title(\"Test Accuracy\")"
      ],
      "execution_count": 8,
      "outputs": [
        {
          "output_type": "execute_result",
          "data": {
            "text/plain": [
              "Text(0.5, 1.0, 'Test Accuracy')"
            ]
          },
          "metadata": {
            "tags": []
          },
          "execution_count": 8
        },
        {
          "output_type": "display_data",
          "data": {
            "image/png": "[encoded data removed]",
            "text/plain": [
              "<Figure size 1080x720 with 4 Axes>"
            ]
          },
          "metadata": {
            "tags": [],
            "needs_background": "light"
          }
        }
      ]
    },
    {
      "cell_type": "code",
      "metadata": {
        "id": "-y_GrZ_90nmm"
      },
      "source": [
        ""
      ],
      "execution_count": 8,
      "outputs": []
    }
  ]
}