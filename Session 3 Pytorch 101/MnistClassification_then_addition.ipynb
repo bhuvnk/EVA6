{
  "nbformat": 4,
  "nbformat_minor": 0,
  "metadata": {
    "colab": {
      "name": "Session03_MnistClassification_then_addition.ipynb",
      "provenance": [],
      "collapsed_sections": [],
      "include_colab_link": true
    },
    "kernelspec": {
      "name": "python3",
      "display_name": "Python 3"
    },
    "language_info": {
      "name": "python"
    },
    "accelerator": "GPU",
    "widgets": {
      "application/vnd.jupyter.widget-state+json": {
        "c6a089d6310d4ada95620657520fb9ba": {
          "model_module": "@jupyter-widgets/controls",
          "model_name": "HBoxModel",
          "state": {
            "_view_name": "HBoxView",
            "_dom_classes": [],
            "_model_name": "HBoxModel",
            "_view_module": "@jupyter-widgets/controls",
            "_model_module_version": "1.5.0",
            "_view_count": null,
            "_view_module_version": "1.5.0",
            "box_style": "",
            "layout": "IPY_MODEL_092a833eaab64e83a352534de65bc2e5",
            "_model_module": "@jupyter-widgets/controls",
            "children": [
              "IPY_MODEL_6aa62bb91eb145eaad552dd41df11376",
              "IPY_MODEL_feadc972f3a340e88aa6910ba3ddab34"
            ]
          }
        },
        "092a833eaab64e83a352534de65bc2e5": {
          "model_module": "@jupyter-widgets/base",
          "model_name": "LayoutModel",
          "state": {
            "_view_name": "LayoutView",
            "grid_template_rows": null,
            "right": null,
            "justify_content": null,
            "_view_module": "@jupyter-widgets/base",
            "overflow": null,
            "_model_module_version": "1.2.0",
            "_view_count": null,
            "flex_flow": null,
            "width": null,
            "min_width": null,
            "border": null,
            "align_items": null,
            "bottom": null,
            "_model_module": "@jupyter-widgets/base",
            "top": null,
            "grid_column": null,
            "overflow_y": null,
            "overflow_x": null,
            "grid_auto_flow": null,
            "grid_area": null,
            "grid_template_columns": null,
            "flex": null,
            "_model_name": "LayoutModel",
            "justify_items": null,
            "grid_row": null,
            "max_height": null,
            "align_content": null,
            "visibility": null,
            "align_self": null,
            "height": null,
            "min_height": null,
            "padding": null,
            "grid_auto_rows": null,
            "grid_gap": null,
            "max_width": null,
            "order": null,
            "_view_module_version": "1.2.0",
            "grid_template_areas": null,
            "object_position": null,
            "object_fit": null,
            "grid_auto_columns": null,
            "margin": null,
            "display": null,
            "left": null
          }
        },
        "6aa62bb91eb145eaad552dd41df11376": {
          "model_module": "@jupyter-widgets/controls",
          "model_name": "FloatProgressModel",
          "state": {
            "_view_name": "ProgressView",
            "style": "IPY_MODEL_eee4ad3a067d459795502cab8019f7e4",
            "_dom_classes": [],
            "description": "",
            "_model_name": "FloatProgressModel",
            "bar_style": "success",
            "max": 9912422,
            "_view_module": "@jupyter-widgets/controls",
            "_model_module_version": "1.5.0",
            "value": 9912422,
            "_view_count": null,
            "_view_module_version": "1.5.0",
            "orientation": "horizontal",
            "min": 0,
            "description_tooltip": null,
            "_model_module": "@jupyter-widgets/controls",
            "layout": "IPY_MODEL_d1e171b6ed564147abec719f1088f9a3"
          }
        },
        "feadc972f3a340e88aa6910ba3ddab34": {
          "model_module": "@jupyter-widgets/controls",
          "model_name": "HTMLModel",
          "state": {
            "_view_name": "HTMLView",
            "style": "IPY_MODEL_b44505cd30174d83855bf8eb2943fc67",
            "_dom_classes": [],
            "description": "",
            "_model_name": "HTMLModel",
            "placeholder": "​",
            "_view_module": "@jupyter-widgets/controls",
            "_model_module_version": "1.5.0",
            "value": " 9913344/? [03:42&lt;00:00, 44624.33it/s]",
            "_view_count": null,
            "_view_module_version": "1.5.0",
            "description_tooltip": null,
            "_model_module": "@jupyter-widgets/controls",
            "layout": "IPY_MODEL_bda63273e5e64a20bb15eb37ab0f04fe"
          }
        },
        "eee4ad3a067d459795502cab8019f7e4": {
          "model_module": "@jupyter-widgets/controls",
          "model_name": "ProgressStyleModel",
          "state": {
            "_view_name": "StyleView",
            "_model_name": "ProgressStyleModel",
            "description_width": "initial",
            "_view_module": "@jupyter-widgets/base",
            "_model_module_version": "1.5.0",
            "_view_count": null,
            "_view_module_version": "1.2.0",
            "bar_color": null,
            "_model_module": "@jupyter-widgets/controls"
          }
        },
        "d1e171b6ed564147abec719f1088f9a3": {
          "model_module": "@jupyter-widgets/base",
          "model_name": "LayoutModel",
          "state": {
            "_view_name": "LayoutView",
            "grid_template_rows": null,
            "right": null,
            "justify_content": null,
            "_view_module": "@jupyter-widgets/base",
            "overflow": null,
            "_model_module_version": "1.2.0",
            "_view_count": null,
            "flex_flow": null,
            "width": null,
            "min_width": null,
            "border": null,
            "align_items": null,
            "bottom": null,
            "_model_module": "@jupyter-widgets/base",
            "top": null,
            "grid_column": null,
            "overflow_y": null,
            "overflow_x": null,
            "grid_auto_flow": null,
            "grid_area": null,
            "grid_template_columns": null,
            "flex": null,
            "_model_name": "LayoutModel",
            "justify_items": null,
            "grid_row": null,
            "max_height": null,
            "align_content": null,
            "visibility": null,
            "align_self": null,
            "height": null,
            "min_height": null,
            "padding": null,
            "grid_auto_rows": null,
            "grid_gap": null,
            "max_width": null,
            "order": null,
            "_view_module_version": "1.2.0",
            "grid_template_areas": null,
            "object_position": null,
            "object_fit": null,
            "grid_auto_columns": null,
            "margin": null,
            "display": null,
            "left": null
          }
        },
        "b44505cd30174d83855bf8eb2943fc67": {
          "model_module": "@jupyter-widgets/controls",
          "model_name": "DescriptionStyleModel",
          "state": {
            "_view_name": "StyleView",
            "_model_name": "DescriptionStyleModel",
            "description_width": "",
            "_view_module": "@jupyter-widgets/base",
            "_model_module_version": "1.5.0",
            "_view_count": null,
            "_view_module_version": "1.2.0",
            "_model_module": "@jupyter-widgets/controls"
          }
        },
        "bda63273e5e64a20bb15eb37ab0f04fe": {
          "model_module": "@jupyter-widgets/base",
          "model_name": "LayoutModel",
          "state": {
            "_view_name": "LayoutView",
            "grid_template_rows": null,
            "right": null,
            "justify_content": null,
            "_view_module": "@jupyter-widgets/base",
            "overflow": null,
            "_model_module_version": "1.2.0",
            "_view_count": null,
            "flex_flow": null,
            "width": null,
            "min_width": null,
            "border": null,
            "align_items": null,
            "bottom": null,
            "_model_module": "@jupyter-widgets/base",
            "top": null,
            "grid_column": null,
            "overflow_y": null,
            "overflow_x": null,
            "grid_auto_flow": null,
            "grid_area": null,
            "grid_template_columns": null,
            "flex": null,
            "_model_name": "LayoutModel",
            "justify_items": null,
            "grid_row": null,
            "max_height": null,
            "align_content": null,
            "visibility": null,
            "align_self": null,
            "height": null,
            "min_height": null,
            "padding": null,
            "grid_auto_rows": null,
            "grid_gap": null,
            "max_width": null,
            "order": null,
            "_view_module_version": "1.2.0",
            "grid_template_areas": null,
            "object_position": null,
            "object_fit": null,
            "grid_auto_columns": null,
            "margin": null,
            "display": null,
            "left": null
          }
        },
        "d6b75fc92be645d0a89b2e1a9406746a": {
          "model_module": "@jupyter-widgets/controls",
          "model_name": "HBoxModel",
          "state": {
            "_view_name": "HBoxView",
            "_dom_classes": [],
            "_model_name": "HBoxModel",
            "_view_module": "@jupyter-widgets/controls",
            "_model_module_version": "1.5.0",
            "_view_count": null,
            "_view_module_version": "1.5.0",
            "box_style": "",
            "layout": "IPY_MODEL_d787f4f86e1d4a589db33881fcf55e0d",
            "_model_module": "@jupyter-widgets/controls",
            "children": [
              "IPY_MODEL_fc8d0b85770c4568ab2a09d5d363945e",
              "IPY_MODEL_4ecf515c1cc447de9968e8b6f1f3df4b"
            ]
          }
        },
        "d787f4f86e1d4a589db33881fcf55e0d": {
          "model_module": "@jupyter-widgets/base",
          "model_name": "LayoutModel",
          "state": {
            "_view_name": "LayoutView",
            "grid_template_rows": null,
            "right": null,
            "justify_content": null,
            "_view_module": "@jupyter-widgets/base",
            "overflow": null,
            "_model_module_version": "1.2.0",
            "_view_count": null,
            "flex_flow": null,
            "width": null,
            "min_width": null,
            "border": null,
            "align_items": null,
            "bottom": null,
            "_model_module": "@jupyter-widgets/base",
            "top": null,
            "grid_column": null,
            "overflow_y": null,
            "overflow_x": null,
            "grid_auto_flow": null,
            "grid_area": null,
            "grid_template_columns": null,
            "flex": null,
            "_model_name": "LayoutModel",
            "justify_items": null,
            "grid_row": null,
            "max_height": null,
            "align_content": null,
            "visibility": null,
            "align_self": null,
            "height": null,
            "min_height": null,
            "padding": null,
            "grid_auto_rows": null,
            "grid_gap": null,
            "max_width": null,
            "order": null,
            "_view_module_version": "1.2.0",
            "grid_template_areas": null,
            "object_position": null,
            "object_fit": null,
            "grid_auto_columns": null,
            "margin": null,
            "display": null,
            "left": null
          }
        },
        "fc8d0b85770c4568ab2a09d5d363945e": {
          "model_module": "@jupyter-widgets/controls",
          "model_name": "FloatProgressModel",
          "state": {
            "_view_name": "ProgressView",
            "style": "IPY_MODEL_398d6fde4bb94074a865d0e8169f751a",
            "_dom_classes": [],
            "description": "",
            "_model_name": "FloatProgressModel",
            "bar_style": "success",
            "max": 28881,
            "_view_module": "@jupyter-widgets/controls",
            "_model_module_version": "1.5.0",
            "value": 28881,
            "_view_count": null,
            "_view_module_version": "1.5.0",
            "orientation": "horizontal",
            "min": 0,
            "description_tooltip": null,
            "_model_module": "@jupyter-widgets/controls",
            "layout": "IPY_MODEL_1cd929ba466d4469813b60aaf7bc3584"
          }
        },
        "4ecf515c1cc447de9968e8b6f1f3df4b": {
          "model_module": "@jupyter-widgets/controls",
          "model_name": "HTMLModel",
          "state": {
            "_view_name": "HTMLView",
            "style": "IPY_MODEL_1b3b240c5614413d82e07932e987a0f5",
            "_dom_classes": [],
            "description": "",
            "_model_name": "HTMLModel",
            "placeholder": "​",
            "_view_module": "@jupyter-widgets/controls",
            "_model_module_version": "1.5.0",
            "value": " 29696/? [00:00&lt;00:00, 793914.38it/s]",
            "_view_count": null,
            "_view_module_version": "1.5.0",
            "description_tooltip": null,
            "_model_module": "@jupyter-widgets/controls",
            "layout": "IPY_MODEL_be6e0886db15468b9f63332875ae490b"
          }
        },
        "398d6fde4bb94074a865d0e8169f751a": {
          "model_module": "@jupyter-widgets/controls",
          "model_name": "ProgressStyleModel",
          "state": {
            "_view_name": "StyleView",
            "_model_name": "ProgressStyleModel",
            "description_width": "initial",
            "_view_module": "@jupyter-widgets/base",
            "_model_module_version": "1.5.0",
            "_view_count": null,
            "_view_module_version": "1.2.0",
            "bar_color": null,
            "_model_module": "@jupyter-widgets/controls"
          }
        },
        "1cd929ba466d4469813b60aaf7bc3584": {
          "model_module": "@jupyter-widgets/base",
          "model_name": "LayoutModel",
          "state": {
            "_view_name": "LayoutView",
            "grid_template_rows": null,
            "right": null,
            "justify_content": null,
            "_view_module": "@jupyter-widgets/base",
            "overflow": null,
            "_model_module_version": "1.2.0",
            "_view_count": null,
            "flex_flow": null,
            "width": null,
            "min_width": null,
            "border": null,
            "align_items": null,
            "bottom": null,
            "_model_module": "@jupyter-widgets/base",
            "top": null,
            "grid_column": null,
            "overflow_y": null,
            "overflow_x": null,
            "grid_auto_flow": null,
            "grid_area": null,
            "grid_template_columns": null,
            "flex": null,
            "_model_name": "LayoutModel",
            "justify_items": null,
            "grid_row": null,
            "max_height": null,
            "align_content": null,
            "visibility": null,
            "align_self": null,
            "height": null,
            "min_height": null,
            "padding": null,
            "grid_auto_rows": null,
            "grid_gap": null,
            "max_width": null,
            "order": null,
            "_view_module_version": "1.2.0",
            "grid_template_areas": null,
            "object_position": null,
            "object_fit": null,
            "grid_auto_columns": null,
            "margin": null,
            "display": null,
            "left": null
          }
        },
        "1b3b240c5614413d82e07932e987a0f5": {
          "model_module": "@jupyter-widgets/controls",
          "model_name": "DescriptionStyleModel",
          "state": {
            "_view_name": "StyleView",
            "_model_name": "DescriptionStyleModel",
            "description_width": "",
            "_view_module": "@jupyter-widgets/base",
            "_model_module_version": "1.5.0",
            "_view_count": null,
            "_view_module_version": "1.2.0",
            "_model_module": "@jupyter-widgets/controls"
          }
        },
        "be6e0886db15468b9f63332875ae490b": {
          "model_module": "@jupyter-widgets/base",
          "model_name": "LayoutModel",
          "state": {
            "_view_name": "LayoutView",
            "grid_template_rows": null,
            "right": null,
            "justify_content": null,
            "_view_module": "@jupyter-widgets/base",
            "overflow": null,
            "_model_module_version": "1.2.0",
            "_view_count": null,
            "flex_flow": null,
            "width": null,
            "min_width": null,
            "border": null,
            "align_items": null,
            "bottom": null,
            "_model_module": "@jupyter-widgets/base",
            "top": null,
            "grid_column": null,
            "overflow_y": null,
            "overflow_x": null,
            "grid_auto_flow": null,
            "grid_area": null,
            "grid_template_columns": null,
            "flex": null,
            "_model_name": "LayoutModel",
            "justify_items": null,
            "grid_row": null,
            "max_height": null,
            "align_content": null,
            "visibility": null,
            "align_self": null,
            "height": null,
            "min_height": null,
            "padding": null,
            "grid_auto_rows": null,
            "grid_gap": null,
            "max_width": null,
            "order": null,
            "_view_module_version": "1.2.0",
            "grid_template_areas": null,
            "object_position": null,
            "object_fit": null,
            "grid_auto_columns": null,
            "margin": null,
            "display": null,
            "left": null
          }
        },
        "8b1902d5b25d4da48cda25208608fcec": {
          "model_module": "@jupyter-widgets/controls",
          "model_name": "HBoxModel",
          "state": {
            "_view_name": "HBoxView",
            "_dom_classes": [],
            "_model_name": "HBoxModel",
            "_view_module": "@jupyter-widgets/controls",
            "_model_module_version": "1.5.0",
            "_view_count": null,
            "_view_module_version": "1.5.0",
            "box_style": "",
            "layout": "IPY_MODEL_674e32f732a8408bad3c5dfb2403dc9a",
            "_model_module": "@jupyter-widgets/controls",
            "children": [
              "IPY_MODEL_23380595761c46189a86fd4c4bc2eafe",
              "IPY_MODEL_0c9c6f7ac23747228b4b2c4165f53559"
            ]
          }
        },
        "674e32f732a8408bad3c5dfb2403dc9a": {
          "model_module": "@jupyter-widgets/base",
          "model_name": "LayoutModel",
          "state": {
            "_view_name": "LayoutView",
            "grid_template_rows": null,
            "right": null,
            "justify_content": null,
            "_view_module": "@jupyter-widgets/base",
            "overflow": null,
            "_model_module_version": "1.2.0",
            "_view_count": null,
            "flex_flow": null,
            "width": null,
            "min_width": null,
            "border": null,
            "align_items": null,
            "bottom": null,
            "_model_module": "@jupyter-widgets/base",
            "top": null,
            "grid_column": null,
            "overflow_y": null,
            "overflow_x": null,
            "grid_auto_flow": null,
            "grid_area": null,
            "grid_template_columns": null,
            "flex": null,
            "_model_name": "LayoutModel",
            "justify_items": null,
            "grid_row": null,
            "max_height": null,
            "align_content": null,
            "visibility": null,
            "align_self": null,
            "height": null,
            "min_height": null,
            "padding": null,
            "grid_auto_rows": null,
            "grid_gap": null,
            "max_width": null,
            "order": null,
            "_view_module_version": "1.2.0",
            "grid_template_areas": null,
            "object_position": null,
            "object_fit": null,
            "grid_auto_columns": null,
            "margin": null,
            "display": null,
            "left": null
          }
        },
        "23380595761c46189a86fd4c4bc2eafe": {
          "model_module": "@jupyter-widgets/controls",
          "model_name": "FloatProgressModel",
          "state": {
            "_view_name": "ProgressView",
            "style": "IPY_MODEL_804351ff53834ff9940cbae5601107c5",
            "_dom_classes": [],
            "description": "",
            "_model_name": "FloatProgressModel",
            "bar_style": "success",
            "max": 1648877,
            "_view_module": "@jupyter-widgets/controls",
            "_model_module_version": "1.5.0",
            "value": 1648877,
            "_view_count": null,
            "_view_module_version": "1.5.0",
            "orientation": "horizontal",
            "min": 0,
            "description_tooltip": null,
            "_model_module": "@jupyter-widgets/controls",
            "layout": "IPY_MODEL_56cb24f03184495bbe36cf2a439f1fdd"
          }
        },
        "0c9c6f7ac23747228b4b2c4165f53559": {
          "model_module": "@jupyter-widgets/controls",
          "model_name": "HTMLModel",
          "state": {
            "_view_name": "HTMLView",
            "style": "IPY_MODEL_3e45409f37d24c8e9771a2519614e63d",
            "_dom_classes": [],
            "description": "",
            "_model_name": "HTMLModel",
            "placeholder": "​",
            "_view_module": "@jupyter-widgets/controls",
            "_model_module_version": "1.5.0",
            "value": " 1649664/? [00:38&lt;00:00, 42336.05it/s]",
            "_view_count": null,
            "_view_module_version": "1.5.0",
            "description_tooltip": null,
            "_model_module": "@jupyter-widgets/controls",
            "layout": "IPY_MODEL_88eeaca2f51442cabc8d7b86002fd664"
          }
        },
        "804351ff53834ff9940cbae5601107c5": {
          "model_module": "@jupyter-widgets/controls",
          "model_name": "ProgressStyleModel",
          "state": {
            "_view_name": "StyleView",
            "_model_name": "ProgressStyleModel",
            "description_width": "initial",
            "_view_module": "@jupyter-widgets/base",
            "_model_module_version": "1.5.0",
            "_view_count": null,
            "_view_module_version": "1.2.0",
            "bar_color": null,
            "_model_module": "@jupyter-widgets/controls"
          }
        },
        "56cb24f03184495bbe36cf2a439f1fdd": {
          "model_module": "@jupyter-widgets/base",
          "model_name": "LayoutModel",
          "state": {
            "_view_name": "LayoutView",
            "grid_template_rows": null,
            "right": null,
            "justify_content": null,
            "_view_module": "@jupyter-widgets/base",
            "overflow": null,
            "_model_module_version": "1.2.0",
            "_view_count": null,
            "flex_flow": null,
            "width": null,
            "min_width": null,
            "border": null,
            "align_items": null,
            "bottom": null,
            "_model_module": "@jupyter-widgets/base",
            "top": null,
            "grid_column": null,
            "overflow_y": null,
            "overflow_x": null,
            "grid_auto_flow": null,
            "grid_area": null,
            "grid_template_columns": null,
            "flex": null,
            "_model_name": "LayoutModel",
            "justify_items": null,
            "grid_row": null,
            "max_height": null,
            "align_content": null,
            "visibility": null,
            "align_self": null,
            "height": null,
            "min_height": null,
            "padding": null,
            "grid_auto_rows": null,
            "grid_gap": null,
            "max_width": null,
            "order": null,
            "_view_module_version": "1.2.0",
            "grid_template_areas": null,
            "object_position": null,
            "object_fit": null,
            "grid_auto_columns": null,
            "margin": null,
            "display": null,
            "left": null
          }
        },
        "3e45409f37d24c8e9771a2519614e63d": {
          "model_module": "@jupyter-widgets/controls",
          "model_name": "DescriptionStyleModel",
          "state": {
            "_view_name": "StyleView",
            "_model_name": "DescriptionStyleModel",
            "description_width": "",
            "_view_module": "@jupyter-widgets/base",
            "_model_module_version": "1.5.0",
            "_view_count": null,
            "_view_module_version": "1.2.0",
            "_model_module": "@jupyter-widgets/controls"
          }
        },
        "88eeaca2f51442cabc8d7b86002fd664": {
          "model_module": "@jupyter-widgets/base",
          "model_name": "LayoutModel",
          "state": {
            "_view_name": "LayoutView",
            "grid_template_rows": null,
            "right": null,
            "justify_content": null,
            "_view_module": "@jupyter-widgets/base",
            "overflow": null,
            "_model_module_version": "1.2.0",
            "_view_count": null,
            "flex_flow": null,
            "width": null,
            "min_width": null,
            "border": null,
            "align_items": null,
            "bottom": null,
            "_model_module": "@jupyter-widgets/base",
            "top": null,
            "grid_column": null,
            "overflow_y": null,
            "overflow_x": null,
            "grid_auto_flow": null,
            "grid_area": null,
            "grid_template_columns": null,
            "flex": null,
            "_model_name": "LayoutModel",
            "justify_items": null,
            "grid_row": null,
            "max_height": null,
            "align_content": null,
            "visibility": null,
            "align_self": null,
            "height": null,
            "min_height": null,
            "padding": null,
            "grid_auto_rows": null,
            "grid_gap": null,
            "max_width": null,
            "order": null,
            "_view_module_version": "1.2.0",
            "grid_template_areas": null,
            "object_position": null,
            "object_fit": null,
            "grid_auto_columns": null,
            "margin": null,
            "display": null,
            "left": null
          }
        },
        "35e4c108bc6e44b4b3ca088f3142ac26": {
          "model_module": "@jupyter-widgets/controls",
          "model_name": "HBoxModel",
          "state": {
            "_view_name": "HBoxView",
            "_dom_classes": [],
            "_model_name": "HBoxModel",
            "_view_module": "@jupyter-widgets/controls",
            "_model_module_version": "1.5.0",
            "_view_count": null,
            "_view_module_version": "1.5.0",
            "box_style": "",
            "layout": "IPY_MODEL_1c33f75bc981491bab7e3cf8bdd2dc64",
            "_model_module": "@jupyter-widgets/controls",
            "children": [
              "IPY_MODEL_525977bd07534b0482ae921130d3b10f",
              "IPY_MODEL_de6e135a502548269dd8c12777d729c1"
            ]
          }
        },
        "1c33f75bc981491bab7e3cf8bdd2dc64": {
          "model_module": "@jupyter-widgets/base",
          "model_name": "LayoutModel",
          "state": {
            "_view_name": "LayoutView",
            "grid_template_rows": null,
            "right": null,
            "justify_content": null,
            "_view_module": "@jupyter-widgets/base",
            "overflow": null,
            "_model_module_version": "1.2.0",
            "_view_count": null,
            "flex_flow": null,
            "width": null,
            "min_width": null,
            "border": null,
            "align_items": null,
            "bottom": null,
            "_model_module": "@jupyter-widgets/base",
            "top": null,
            "grid_column": null,
            "overflow_y": null,
            "overflow_x": null,
            "grid_auto_flow": null,
            "grid_area": null,
            "grid_template_columns": null,
            "flex": null,
            "_model_name": "LayoutModel",
            "justify_items": null,
            "grid_row": null,
            "max_height": null,
            "align_content": null,
            "visibility": null,
            "align_self": null,
            "height": null,
            "min_height": null,
            "padding": null,
            "grid_auto_rows": null,
            "grid_gap": null,
            "max_width": null,
            "order": null,
            "_view_module_version": "1.2.0",
            "grid_template_areas": null,
            "object_position": null,
            "object_fit": null,
            "grid_auto_columns": null,
            "margin": null,
            "display": null,
            "left": null
          }
        },
        "525977bd07534b0482ae921130d3b10f": {
          "model_module": "@jupyter-widgets/controls",
          "model_name": "FloatProgressModel",
          "state": {
            "_view_name": "ProgressView",
            "style": "IPY_MODEL_7b7d912764e0420d887e80bfbab34e8b",
            "_dom_classes": [],
            "description": "",
            "_model_name": "FloatProgressModel",
            "bar_style": "success",
            "max": 4542,
            "_view_module": "@jupyter-widgets/controls",
            "_model_module_version": "1.5.0",
            "value": 4542,
            "_view_count": null,
            "_view_module_version": "1.5.0",
            "orientation": "horizontal",
            "min": 0,
            "description_tooltip": null,
            "_model_module": "@jupyter-widgets/controls",
            "layout": "IPY_MODEL_49d49779cf7e402cb3b9cb8b7243d817"
          }
        },
        "de6e135a502548269dd8c12777d729c1": {
          "model_module": "@jupyter-widgets/controls",
          "model_name": "HTMLModel",
          "state": {
            "_view_name": "HTMLView",
            "style": "IPY_MODEL_f5b7dbfb25c34610b98919daff8326bd",
            "_dom_classes": [],
            "description": "",
            "_model_name": "HTMLModel",
            "placeholder": "​",
            "_view_module": "@jupyter-widgets/controls",
            "_model_module_version": "1.5.0",
            "value": " 5120/? [00:11&lt;00:00, 464.72it/s]",
            "_view_count": null,
            "_view_module_version": "1.5.0",
            "description_tooltip": null,
            "_model_module": "@jupyter-widgets/controls",
            "layout": "IPY_MODEL_4777d7dca12440e896d9b11818c55911"
          }
        },
        "7b7d912764e0420d887e80bfbab34e8b": {
          "model_module": "@jupyter-widgets/controls",
          "model_name": "ProgressStyleModel",
          "state": {
            "_view_name": "StyleView",
            "_model_name": "ProgressStyleModel",
            "description_width": "initial",
            "_view_module": "@jupyter-widgets/base",
            "_model_module_version": "1.5.0",
            "_view_count": null,
            "_view_module_version": "1.2.0",
            "bar_color": null,
            "_model_module": "@jupyter-widgets/controls"
          }
        },
        "49d49779cf7e402cb3b9cb8b7243d817": {
          "model_module": "@jupyter-widgets/base",
          "model_name": "LayoutModel",
          "state": {
            "_view_name": "LayoutView",
            "grid_template_rows": null,
            "right": null,
            "justify_content": null,
            "_view_module": "@jupyter-widgets/base",
            "overflow": null,
            "_model_module_version": "1.2.0",
            "_view_count": null,
            "flex_flow": null,
            "width": null,
            "min_width": null,
            "border": null,
            "align_items": null,
            "bottom": null,
            "_model_module": "@jupyter-widgets/base",
            "top": null,
            "grid_column": null,
            "overflow_y": null,
            "overflow_x": null,
            "grid_auto_flow": null,
            "grid_area": null,
            "grid_template_columns": null,
            "flex": null,
            "_model_name": "LayoutModel",
            "justify_items": null,
            "grid_row": null,
            "max_height": null,
            "align_content": null,
            "visibility": null,
            "align_self": null,
            "height": null,
            "min_height": null,
            "padding": null,
            "grid_auto_rows": null,
            "grid_gap": null,
            "max_width": null,
            "order": null,
            "_view_module_version": "1.2.0",
            "grid_template_areas": null,
            "object_position": null,
            "object_fit": null,
            "grid_auto_columns": null,
            "margin": null,
            "display": null,
            "left": null
          }
        },
        "f5b7dbfb25c34610b98919daff8326bd": {
          "model_module": "@jupyter-widgets/controls",
          "model_name": "DescriptionStyleModel",
          "state": {
            "_view_name": "StyleView",
            "_model_name": "DescriptionStyleModel",
            "description_width": "",
            "_view_module": "@jupyter-widgets/base",
            "_model_module_version": "1.5.0",
            "_view_count": null,
            "_view_module_version": "1.2.0",
            "_model_module": "@jupyter-widgets/controls"
          }
        },
        "4777d7dca12440e896d9b11818c55911": {
          "model_module": "@jupyter-widgets/base",
          "model_name": "LayoutModel",
          "state": {
            "_view_name": "LayoutView",
            "grid_template_rows": null,
            "right": null,
            "justify_content": null,
            "_view_module": "@jupyter-widgets/base",
            "overflow": null,
            "_model_module_version": "1.2.0",
            "_view_count": null,
            "flex_flow": null,
            "width": null,
            "min_width": null,
            "border": null,
            "align_items": null,
            "bottom": null,
            "_model_module": "@jupyter-widgets/base",
            "top": null,
            "grid_column": null,
            "overflow_y": null,
            "overflow_x": null,
            "grid_auto_flow": null,
            "grid_area": null,
            "grid_template_columns": null,
            "flex": null,
            "_model_name": "LayoutModel",
            "justify_items": null,
            "grid_row": null,
            "max_height": null,
            "align_content": null,
            "visibility": null,
            "align_self": null,
            "height": null,
            "min_height": null,
            "padding": null,
            "grid_auto_rows": null,
            "grid_gap": null,
            "max_width": null,
            "order": null,
            "_view_module_version": "1.2.0",
            "grid_template_areas": null,
            "object_position": null,
            "object_fit": null,
            "grid_auto_columns": null,
            "margin": null,
            "display": null,
            "left": null
          }
        }
      }
    }
  },
  "cells": [
    {
      "cell_type": "markdown",
      "metadata": {
        "id": "view-in-github",
        "colab_type": "text"
      },
      "source": [
        "<a href=\"https://colab.research.google.com/github/bhuvnk/EVA6/blob/main/Session%203%20Pytorch%20101/MnistClassification_then_addition.ipynb\" target=\"_parent\"><img src=\"https://colab.research.google.com/assets/colab-badge.svg\" alt=\"Open In Colab\"/></a>"
      ]
    },
    {
      "cell_type": "code",
      "metadata": {
        "colab": {
          "base_uri": "https://localhost:8080/"
        },
        "id": "nDq2xzeONyc6",
        "outputId": "51fed2bd-7b93-4bc9-dafb-f9401c07b899"
      },
      "source": [
        "!nvidia-smi"
      ],
      "execution_count": null,
      "outputs": [
        {
          "output_type": "stream",
          "text": [
            "Fri May 21 23:18:45 2021       \n",
            "+-----------------------------------------------------------------------------+\n",
            "| NVIDIA-SMI 465.19.01    Driver Version: 460.32.03    CUDA Version: 11.2     |\n",
            "|-------------------------------+----------------------+----------------------+\n",
            "| GPU  Name        Persistence-M| Bus-Id        Disp.A | Volatile Uncorr. ECC |\n",
            "| Fan  Temp  Perf  Pwr:Usage/Cap|         Memory-Usage | GPU-Util  Compute M. |\n",
            "|                               |                      |               MIG M. |\n",
            "|===============================+======================+======================|\n",
            "|   0  Tesla T4            Off  | 00000000:00:04.0 Off |                    0 |\n",
            "| N/A   54C    P0    29W /  70W |   1128MiB / 15109MiB |      0%      Default |\n",
            "|                               |                      |                  N/A |\n",
            "+-------------------------------+----------------------+----------------------+\n",
            "                                                                               \n",
            "+-----------------------------------------------------------------------------+\n",
            "| Processes:                                                                  |\n",
            "|  GPU   GI   CI        PID   Type   Process name                  GPU Memory |\n",
            "|        ID   ID                                                   Usage      |\n",
            "|=============================================================================|\n",
            "+-----------------------------------------------------------------------------+\n"
          ],
          "name": "stdout"
        }
      ]
    },
    {
      "cell_type": "markdown",
      "metadata": {
        "id": "sFZ032ee87Iz"
      },
      "source": [
        "# Import Libraries and Modules"
      ]
    },
    {
      "cell_type": "code",
      "metadata": {
        "id": "Szie4d9zq0ux",
        "colab": {
          "base_uri": "https://localhost:8080/"
        },
        "outputId": "df254d07-0b82-44f6-832e-637f118e7510"
      },
      "source": [
        "import torch\n",
        "import torchvision # provide access to datasets, models, transforms, utils, etc\n",
        "import torchvision.transforms as transforms\n",
        "from torch.utils.data import Dataset, TensorDataset, DataLoader\n",
        "import numpy as np\n",
        "import matplotlib.pyplot as plt\n",
        "import torch.nn as nn\n",
        "import torch.nn.functional as F\n",
        "import torch.optim as optim\n",
        "from torchsummary import summary\n",
        "from random import randint\n",
        "\n",
        "torch.set_printoptions(linewidth=120)\n",
        "\n",
        "# Setting up the device\n",
        "device = torch.device(\"cuda:0\" if torch.cuda.is_available() else \"cpu\")\n",
        "\n",
        "# Assuming that we are on a CUDA machine, this should print a CUDA device:\n",
        "print(\"The device available is: \", device)"
      ],
      "execution_count": null,
      "outputs": [
        {
          "output_type": "stream",
          "text": [
            "The device available is:  cuda:0\n"
          ],
          "name": "stdout"
        }
      ]
    },
    {
      "cell_type": "markdown",
      "metadata": {
        "id": "PnMjylyn8-Vl"
      },
      "source": [
        "# Create Combined Dataset With torch.utils.data.DataLoader"
      ]
    },
    {
      "cell_type": "code",
      "metadata": {
        "id": "S76rBTqBEXl_",
        "colab": {
          "base_uri": "https://localhost:8080/",
          "height": 573,
          "referenced_widgets": [
            "c6a089d6310d4ada95620657520fb9ba",
            "092a833eaab64e83a352534de65bc2e5",
            "6aa62bb91eb145eaad552dd41df11376",
            "feadc972f3a340e88aa6910ba3ddab34",
            "eee4ad3a067d459795502cab8019f7e4",
            "d1e171b6ed564147abec719f1088f9a3",
            "b44505cd30174d83855bf8eb2943fc67",
            "bda63273e5e64a20bb15eb37ab0f04fe",
            "d6b75fc92be645d0a89b2e1a9406746a",
            "d787f4f86e1d4a589db33881fcf55e0d",
            "fc8d0b85770c4568ab2a09d5d363945e",
            "4ecf515c1cc447de9968e8b6f1f3df4b",
            "398d6fde4bb94074a865d0e8169f751a",
            "1cd929ba466d4469813b60aaf7bc3584",
            "1b3b240c5614413d82e07932e987a0f5",
            "be6e0886db15468b9f63332875ae490b",
            "8b1902d5b25d4da48cda25208608fcec",
            "674e32f732a8408bad3c5dfb2403dc9a",
            "23380595761c46189a86fd4c4bc2eafe",
            "0c9c6f7ac23747228b4b2c4165f53559",
            "804351ff53834ff9940cbae5601107c5",
            "56cb24f03184495bbe36cf2a439f1fdd",
            "3e45409f37d24c8e9771a2519614e63d",
            "88eeaca2f51442cabc8d7b86002fd664",
            "35e4c108bc6e44b4b3ca088f3142ac26",
            "1c33f75bc981491bab7e3cf8bdd2dc64",
            "525977bd07534b0482ae921130d3b10f",
            "de6e135a502548269dd8c12777d729c1",
            "7b7d912764e0420d887e80bfbab34e8b",
            "49d49779cf7e402cb3b9cb8b7243d817",
            "f5b7dbfb25c34610b98919daff8326bd",
            "4777d7dca12440e896d9b11818c55911"
          ]
        },
        "outputId": "97d2d87a-b7ce-4b43-ae6c-c93c3edf6a27"
      },
      "source": [
        "# Create a class to combine MNIST dataset and random numbers between 0 and 9\n",
        "class Combined_Dataset():\n",
        "\n",
        "  # We pass the train variable to get train or test data, and batch_size\n",
        "  def __init__(self, train, batch_size):\n",
        "\n",
        "      self.batch_size = batch_size\n",
        "      # Load the MNIST data into the data_loader object\n",
        "      self.data_loader = torch.utils.data.DataLoader(\n",
        "          torchvision.datasets.MNIST('/files/', train=train, download=True,\n",
        "                                transform=torchvision.transforms.Compose([\n",
        "                                  torchvision.transforms.ToTensor(),\n",
        "                                  torchvision.transforms.Normalize(\n",
        "                                    (0.1307,), (0.3081,))\n",
        "                                ])),\n",
        "          batch_size=self.batch_size, shuffle=True)\n",
        "\n",
        "      # Number of samples in the dataaset\n",
        "      self.dataset = self.data_loader.dataset            \n",
        "\n",
        "  # getitem function creats batches of our dataset on the fly by calling next(iter())\n",
        "  def __getitem__(self, index):\n",
        "      # Extract one batch of the MNIST data_loader\n",
        "      image, label = next(iter(self.data_loader))\n",
        "\n",
        "      # Generate randoms numbers between 0 and 9 of size=batch_size. The datatype is float as this is the input required for the network\n",
        "      random_numbers = torch.tensor([randint(0,9) for _ in range(self.batch_size)], dtype=torch.float32)\n",
        "\n",
        "      # Combine inputs and outputs as a list after transfering the tensors to the GPU\n",
        "      x = [image.to(device), random_numbers.to(device)]\n",
        "      # y labels for addition of number is reshaped to [32,1] as MSE requires it in this format\n",
        "      y = [label.to(device), (label+random_numbers).reshape([32,1]).to(device)]\n",
        "\n",
        "      return x, y\n",
        "\n",
        "  def __len__(self):\n",
        "      return len(self.data_loader)\n",
        "\n",
        "# Set the batch size\n",
        "batch_size = 32\n",
        "\n",
        "# Create the train and test dataset\n",
        "train_data = Combined_Dataset(train=True, batch_size=batch_size)\n",
        "test_data = Combined_Dataset(train=False, batch_size=batch_size)"
      ],
      "execution_count": null,
      "outputs": [
        {
          "output_type": "stream",
          "text": [
            "Downloading http://yann.lecun.com/exdb/mnist/train-images-idx3-ubyte.gz\n",
            "Downloading http://yann.lecun.com/exdb/mnist/train-images-idx3-ubyte.gz to /files/MNIST/raw/train-images-idx3-ubyte.gz\n"
          ],
          "name": "stdout"
        },
        {
          "output_type": "display_data",
          "data": {
            "application/vnd.jupyter.widget-view+json": {
              "model_id": "c6a089d6310d4ada95620657520fb9ba",
              "version_minor": 0,
              "version_major": 2
            },
            "text/plain": [
              "HBox(children=(FloatProgress(value=0.0, max=9912422.0), HTML(value='')))"
            ]
          },
          "metadata": {
            "tags": []
          }
        },
        {
          "output_type": "stream",
          "text": [
            "\n",
            "Extracting /files/MNIST/raw/train-images-idx3-ubyte.gz to /files/MNIST/raw\n",
            "\n",
            "Downloading http://yann.lecun.com/exdb/mnist/train-labels-idx1-ubyte.gz\n",
            "Downloading http://yann.lecun.com/exdb/mnist/train-labels-idx1-ubyte.gz to /files/MNIST/raw/train-labels-idx1-ubyte.gz\n"
          ],
          "name": "stdout"
        },
        {
          "output_type": "display_data",
          "data": {
            "application/vnd.jupyter.widget-view+json": {
              "model_id": "d6b75fc92be645d0a89b2e1a9406746a",
              "version_minor": 0,
              "version_major": 2
            },
            "text/plain": [
              "HBox(children=(FloatProgress(value=0.0, max=28881.0), HTML(value='')))"
            ]
          },
          "metadata": {
            "tags": []
          }
        },
        {
          "output_type": "stream",
          "text": [
            "\n",
            "Extracting /files/MNIST/raw/train-labels-idx1-ubyte.gz to /files/MNIST/raw\n",
            "\n",
            "Downloading http://yann.lecun.com/exdb/mnist/t10k-images-idx3-ubyte.gz\n",
            "Downloading http://yann.lecun.com/exdb/mnist/t10k-images-idx3-ubyte.gz to /files/MNIST/raw/t10k-images-idx3-ubyte.gz\n"
          ],
          "name": "stdout"
        },
        {
          "output_type": "display_data",
          "data": {
            "application/vnd.jupyter.widget-view+json": {
              "model_id": "8b1902d5b25d4da48cda25208608fcec",
              "version_minor": 0,
              "version_major": 2
            },
            "text/plain": [
              "HBox(children=(FloatProgress(value=0.0, max=1648877.0), HTML(value='')))"
            ]
          },
          "metadata": {
            "tags": []
          }
        },
        {
          "output_type": "stream",
          "text": [
            "\n",
            "Extracting /files/MNIST/raw/t10k-images-idx3-ubyte.gz to /files/MNIST/raw\n",
            "\n",
            "Downloading http://yann.lecun.com/exdb/mnist/t10k-labels-idx1-ubyte.gz\n",
            "Downloading http://yann.lecun.com/exdb/mnist/t10k-labels-idx1-ubyte.gz to /files/MNIST/raw/t10k-labels-idx1-ubyte.gz\n"
          ],
          "name": "stdout"
        },
        {
          "output_type": "display_data",
          "data": {
            "application/vnd.jupyter.widget-view+json": {
              "model_id": "35e4c108bc6e44b4b3ca088f3142ac26",
              "version_minor": 0,
              "version_major": 2
            },
            "text/plain": [
              "HBox(children=(FloatProgress(value=0.0, max=4542.0), HTML(value='')))"
            ]
          },
          "metadata": {
            "tags": []
          }
        },
        {
          "output_type": "stream",
          "text": [
            "\n",
            "Extracting /files/MNIST/raw/t10k-labels-idx1-ubyte.gz to /files/MNIST/raw\n",
            "\n",
            "Processing...\n",
            "Done!\n"
          ],
          "name": "stdout"
        },
        {
          "output_type": "stream",
          "text": [
            "/usr/local/lib/python3.7/dist-packages/torchvision/datasets/mnist.py:502: UserWarning: The given NumPy array is not writeable, and PyTorch does not support non-writeable tensors. This means you can write to the underlying (supposedly non-writeable) NumPy array using the tensor. You may want to copy the array to protect its data or make it writeable before converting it to a tensor. This type of warning will be suppressed for the rest of this program. (Triggered internally at  /pytorch/torch/csrc/utils/tensor_numpy.cpp:143.)\n",
            "  return torch.from_numpy(parsed.astype(m[2], copy=False)).view(*s)\n"
          ],
          "name": "stderr"
        }
      ]
    },
    {
      "cell_type": "code",
      "metadata": {
        "colab": {
          "base_uri": "https://localhost:8080/"
        },
        "id": "PXyPAHTraQ6d",
        "outputId": "017b41d7-6ef2-4f1d-ca1e-cc6fc0e1b6f2"
      },
      "source": [
        "print(f\"Number of train batches: {len(train_data)}\")\n",
        "print(f\"Number of test batches: {len(test_data)}\")\n",
        "\n",
        "print(f\"Number of train samples: {len(train_data.dataset)}\")\n",
        "print(f\"Number of test samples: {len(test_data.dataset)}\")\n",
        "\n",
        "x, y = next(iter(train_data))\n",
        "\n",
        "print(f\"Shape of input data is: [{x[0].shape}, {x[1].shape}]\")\n",
        "print(f\"Shape of output data is: [{y[0].shape}, {y[1].shape}]\")"
      ],
      "execution_count": null,
      "outputs": [
        {
          "output_type": "stream",
          "text": [
            "Number of train batches: 1875\n",
            "Number of test batches: 313\n",
            "Number of train samples: 60000\n",
            "Number of test samples: 10000\n",
            "Shape of input data is: [torch.Size([32, 1, 28, 28]), torch.Size([32])]\n",
            "Shape of output data is: [torch.Size([32]), torch.Size([32, 1])]\n"
          ],
          "name": "stdout"
        }
      ]
    },
    {
      "cell_type": "markdown",
      "metadata": {
        "id": "AdTl1PKm9QNl"
      },
      "source": [
        "# Building the Network"
      ]
    },
    {
      "cell_type": "code",
      "metadata": {
        "id": "wlKTHAH_OXBx"
      },
      "source": [
        "# Build the classifier and addition network\n",
        "class Network(nn.Module):\n",
        "    def __init__(self):\n",
        "        super().__init__()\n",
        "\n",
        "        # Classifier Network\n",
        "        self.input1 = nn.Conv2d(in_channels=1, out_channels=16, kernel_size=3) # output size = 26\n",
        "        self.conv1 = nn.Conv2d(in_channels=16, out_channels=32, kernel_size=3) # 24\n",
        "        self.conv2 = nn.Conv2d(in_channels=32, out_channels=64, kernel_size=3) # 22\n",
        "        self.pool = nn.MaxPool2d(2, 2) # 11\n",
        "\n",
        "        # 1x1 convolution\n",
        "        self.oneconv1 = nn.Conv2d(in_channels=64, out_channels=16, kernel_size=1) # 11\n",
        "        \n",
        "        self.conv3 = nn.Conv2d(in_channels=16, out_channels=32, kernel_size=3) # 9\n",
        "        self.conv4 = nn.Conv2d(in_channels=32, out_channels=64, kernel_size=3) # 7\n",
        "        self.conv5 = nn.Conv2d(in_channels=64, out_channels=64, kernel_size=3) # 5\n",
        "        self.conv6 = nn.Conv2d(in_channels=64, out_channels=10, kernel_size=5) # 1\n",
        "\n",
        "        # Addition network using fully connected layers\n",
        "        self.input2 = nn.Linear(in_features=2, out_features=5)\n",
        "        self.layer1 = nn.Linear(in_features=5, out_features=5)\n",
        "        self.out2 = nn.Linear(in_features=5, out_features=1)\n",
        "\n",
        "    def forward(self, data1, data2):\n",
        "        # Classifier Network forward prop\n",
        "        # first block\n",
        "        x = F.relu(self.input1(data1))\n",
        "        x = F.relu(self.conv1(x))\n",
        "        x = self.pool(F.relu(self.conv2(x)))\n",
        "        x = F.relu(self.oneconv1(x))\n",
        "        \n",
        "        # second block\n",
        "        x = F.relu(self.conv3(x))\n",
        "        x = F.relu(self.conv4(x))\n",
        "        x = F.relu(self.conv5(x))\n",
        "\n",
        "        # third block\n",
        "        x = self.conv6(x)\n",
        "        output1 = torch.flatten(x, start_dim=1) # flatten all dimensions except batch      \n",
        "\n",
        "        # Addition Network\n",
        "        # Collect the output of the classifier network and select the index with maximum value\n",
        "        x = torch.argmax(output1, dim=1)\n",
        "        # Use torch.stack to create pairs of network outputs and random numbers\n",
        "        x  = torch.stack((x.float(), data2), dim=1)\n",
        "        \n",
        "        # Pass the data through the addition network. No activation function required as addition of two numbers is a linear function\n",
        "        x = self.input2(x)\n",
        "        x = self.layer1(x)\n",
        "        output2 = self.out2(x)\n",
        "\n",
        "        # Return outputs from both the classifier and addition network\n",
        "        return output1, output2"
      ],
      "execution_count": null,
      "outputs": []
    },
    {
      "cell_type": "code",
      "metadata": {
        "colab": {
          "base_uri": "https://localhost:8080/"
        },
        "id": "OKN7Us-CBLHU",
        "outputId": "f6de43d5-6ff5-4f55-a31a-80925e066058"
      },
      "source": [
        "# Create an object of the class Network and transfer it to the GPU\n",
        "model = Network().to(device)\n",
        "print(\" The model layers are: \")\n",
        "print(model)\n",
        "\n",
        "print(\"\\nShape of parameters in each layer is: \")\n",
        "for name, param in model.named_parameters():\n",
        "    print(name, '\\t\\t', param.shape)\n",
        "\n",
        "# Selecting the loss function and optimizer  for the model\n",
        "CE_loss = nn.CrossEntropyLoss()\n",
        "MSE_loss = nn.MSELoss()\n",
        "optimizer = optim.SGD(model.parameters(), lr=0.001, momentum=0.9)"
      ],
      "execution_count": null,
      "outputs": [
        {
          "output_type": "stream",
          "text": [
            " The model layers are: \n",
            "Network(\n",
            "  (input1): Conv2d(1, 16, kernel_size=(3, 3), stride=(1, 1))\n",
            "  (conv1): Conv2d(16, 32, kernel_size=(3, 3), stride=(1, 1))\n",
            "  (conv2): Conv2d(32, 64, kernel_size=(3, 3), stride=(1, 1))\n",
            "  (pool): MaxPool2d(kernel_size=2, stride=2, padding=0, dilation=1, ceil_mode=False)\n",
            "  (oneconv1): Conv2d(64, 16, kernel_size=(1, 1), stride=(1, 1))\n",
            "  (conv3): Conv2d(16, 32, kernel_size=(3, 3), stride=(1, 1))\n",
            "  (conv4): Conv2d(32, 64, kernel_size=(3, 3), stride=(1, 1))\n",
            "  (conv5): Conv2d(64, 64, kernel_size=(3, 3), stride=(1, 1))\n",
            "  (conv6): Conv2d(64, 10, kernel_size=(5, 5), stride=(1, 1))\n",
            "  (input2): Linear(in_features=2, out_features=5, bias=True)\n",
            "  (layer1): Linear(in_features=5, out_features=5, bias=True)\n",
            "  (out2): Linear(in_features=5, out_features=1, bias=True)\n",
            ")\n",
            "\n",
            "Shape of parameters in each layer is: \n",
            "input1.weight \t\t torch.Size([16, 1, 3, 3])\n",
            "input1.bias \t\t torch.Size([16])\n",
            "conv1.weight \t\t torch.Size([32, 16, 3, 3])\n",
            "conv1.bias \t\t torch.Size([32])\n",
            "conv2.weight \t\t torch.Size([64, 32, 3, 3])\n",
            "conv2.bias \t\t torch.Size([64])\n",
            "oneconv1.weight \t\t torch.Size([16, 64, 1, 1])\n",
            "oneconv1.bias \t\t torch.Size([16])\n",
            "conv3.weight \t\t torch.Size([32, 16, 3, 3])\n",
            "conv3.bias \t\t torch.Size([32])\n",
            "conv4.weight \t\t torch.Size([64, 32, 3, 3])\n",
            "conv4.bias \t\t torch.Size([64])\n",
            "conv5.weight \t\t torch.Size([64, 64, 3, 3])\n",
            "conv5.bias \t\t torch.Size([64])\n",
            "conv6.weight \t\t torch.Size([10, 64, 5, 5])\n",
            "conv6.bias \t\t torch.Size([10])\n",
            "input2.weight \t\t torch.Size([5, 2])\n",
            "input2.bias \t\t torch.Size([5])\n",
            "layer1.weight \t\t torch.Size([5, 5])\n",
            "layer1.bias \t\t torch.Size([5])\n",
            "out2.weight \t\t torch.Size([1, 5])\n",
            "out2.bias \t\t torch.Size([1])\n"
          ],
          "name": "stdout"
        }
      ]
    },
    {
      "cell_type": "markdown",
      "metadata": {
        "id": "lcECVJnC9eUR"
      },
      "source": [
        "# Training the Model"
      ]
    },
    {
      "cell_type": "code",
      "metadata": {
        "colab": {
          "base_uri": "https://localhost:8080/"
        },
        "id": "JqdOACfnhqPE",
        "outputId": "4bd7ee45-c7c8-4908-f018-10303dc5e4b4"
      },
      "source": [
        "for epoch in range(10):  # Loop over the dataset multiple times\n",
        "\n",
        "    total_loss = 0.0\n",
        "    total_correct_1, total_correct_2 = 0, 0\n",
        "    # Loop over the entire length of train data\n",
        "    for i in range(len(train_data)):\n",
        "        # Get the inputs and outputs\n",
        "        # Input data x is a list of [images, random numbers], output data y is a list of [classes, sum of numbers]\n",
        "        x, y = next(iter(train_data))\n",
        "\n",
        "        # Zero the parameter gradients\n",
        "        optimizer.zero_grad()\n",
        "\n",
        "        # Forward + Backward + Optimize\n",
        "        output1, output2 = model(x[0], x[1])\n",
        "        # Use the CE loss for classification and MSE loss for addition \n",
        "        loss = CE_loss(output1, y[0]) + MSE_loss(output2, y[1])\n",
        "        loss.backward()\n",
        "        optimizer.step()\n",
        "\n",
        "        # Calculate statistics\n",
        "        total_loss += loss.item()\n",
        "        total_correct_1 += output1.argmax(dim=1).eq(y[0]).sum().item()\n",
        "        total_correct_2 += (torch.round(output2) == torch.round(y[1])).sum().item()\n",
        "        \n",
        "    # Print statistics        \n",
        "    print(f\"Epoch: {epoch+1}, loss: {total_loss}, Classification Acc: {100 * (total_correct_1/(len(train_data.dataset)))}, Addition Acc: {100 * (total_correct_2/(len(train_data.dataset)))}\")\n",
        "    \n",
        "print('Finished Training')"
      ],
      "execution_count": null,
      "outputs": [
        {
          "output_type": "stream",
          "text": [
            "Epoch: 1, loss: 17133.129095613956, Classification Acc: 34.196666666666665, Addition Acc: 19.40833333333333\n",
            "Epoch: 2, loss: 1992.754824128002, Classification Acc: 95.30499999999999, Addition Acc: 84.34666666666666\n",
            "Epoch: 3, loss: 1118.9857528484426, Classification Acc: 97.425, Addition Acc: 93.89833333333333\n",
            "Epoch: 4, loss: 776.5022496334277, Classification Acc: 98.10833333333333, Addition Acc: 96.68166666666667\n",
            "Epoch: 5, loss: 652.799082744401, Classification Acc: 98.46833333333333, Addition Acc: 97.64166666666667\n",
            "Epoch: 6, loss: 531.785650413367, Classification Acc: 98.70833333333333, Addition Acc: 98.12166666666667\n",
            "Epoch: 7, loss: 467.3061952141579, Classification Acc: 98.895, Addition Acc: 98.19333333333333\n",
            "Epoch: 8, loss: 436.9414788761642, Classification Acc: 99.04166666666666, Addition Acc: 98.61333333333333\n",
            "Epoch: 9, loss: 368.7780215948587, Classification Acc: 99.15, Addition Acc: 98.86333333333333\n",
            "Epoch: 10, loss: 346.73825165929156, Classification Acc: 99.225, Addition Acc: 98.99166666666666\n",
            "Finished Training\n"
          ],
          "name": "stdout"
        }
      ]
    },
    {
      "cell_type": "markdown",
      "metadata": {
        "id": "iJCQAt1v9gQc"
      },
      "source": [
        "# Evaluating the Model"
      ]
    },
    {
      "cell_type": "code",
      "metadata": {
        "id": "rtTzDx3MtO9B",
        "colab": {
          "base_uri": "https://localhost:8080/"
        },
        "outputId": "1b9e1065-08e2-42b9-ee13-d6511abda0f2"
      },
      "source": [
        "correct_1, correct_2 = 0, 0\n",
        "total_1, total_2 = 0, 0\n",
        "\n",
        "# Since we're not training, we don't need to calculate the gradients for our outputs\n",
        "with torch.no_grad():\n",
        "    # Loop over the entire length of test data\n",
        "    for i in range(len(test_data)):\n",
        "        # Get the inputs and outputs\n",
        "        # Input data x is a list of [images, random numbers], output data y is a list of [classes, sum of numbers]\n",
        "        x, y = next(iter(test_data))\n",
        "\n",
        "        # Calculate outputs by running data through the network \n",
        "        output1, output2 = model(x[0], x[1])\n",
        "\n",
        "        # The class with the highest energy is what we choose as prediction\n",
        "        _, predicted = torch.max(output1.data, 1)\n",
        "        total_1 += y[0].size(0)\n",
        "        # Calculate number of correction predictions for classifier\n",
        "        correct_1 += (predicted == y[0]).sum().item()\n",
        "\n",
        "        total_2 += y[1].to(device).size(0)\n",
        "        # Calculate number of correction predictions for addition\n",
        "        correct_2 += (torch.round(output2) == torch.round(y[1])).sum().item()\n",
        "\n",
        "print('Accuracy of the network on the 10,000 test images: ', (100 * correct_1 / total_1))\n",
        "print('Accuracy of the network on the 10,000 test images: ', (100 * correct_2 / total_2))"
      ],
      "execution_count": null,
      "outputs": [
        {
          "output_type": "stream",
          "text": [
            "Accuracy of the network on the 10,000 test images:  98.47244408945687\n",
            "Accuracy of the network on the 10,000 test images:  98.47244408945687\n"
          ],
          "name": "stdout"
        }
      ]
    },
    {
      "cell_type": "markdown",
      "metadata": {
        "id": "ureQ_TG5rlAm"
      },
      "source": [
        "# Sample Prediction on a batch"
      ]
    },
    {
      "cell_type": "code",
      "metadata": {
        "colab": {
          "base_uri": "https://localhost:8080/"
        },
        "id": "X4pp-yZjrnwZ",
        "outputId": "fffa19e9-3786-4c33-9236-42692fc8babc"
      },
      "source": [
        "print(\"Print Prediction for a sample batch\\n\")\n",
        "x, y = next(iter(test_data))\n",
        "\n",
        "# Calculate outputs by running data through the network \n",
        "output1, output2 = model(x[0], x[1])\n",
        "\n",
        "# The class with the highest energy is what we choose as prediction\n",
        "_, predicted = torch.max(output1.data, 1)\n",
        "\n",
        "print(\"Predicted vs. Actual for classifer\\n\")\n",
        "print(torch.stack((predicted, y[0]), dim=1)[:10])"
      ],
      "execution_count": null,
      "outputs": [
        {
          "output_type": "stream",
          "text": [
            "Print Prediction for a sample batch\n",
            "\n",
            "Predicted vs. Actual for classifer\n",
            "\n",
            "tensor([[3, 3],\n",
            "        [8, 8],\n",
            "        [7, 7],\n",
            "        [4, 4],\n",
            "        [7, 7],\n",
            "        [0, 0],\n",
            "        [0, 0],\n",
            "        [5, 5],\n",
            "        [8, 8],\n",
            "        [7, 7]], device='cuda:0')\n"
          ],
          "name": "stdout"
        }
      ]
    },
    {
      "cell_type": "code",
      "metadata": {
        "colab": {
          "base_uri": "https://localhost:8080/"
        },
        "id": "699AOLTOJ7VJ",
        "outputId": "55a78531-c141-433f-b5cc-6ed498b06a5b"
      },
      "source": [
        "print(\"Predicted vs. Predicted Rounded off vs. Actual for addition\\n\")\n",
        "\n",
        "print(torch.stack((output2, torch.round(output2), y[1]), dim=1)[:5])"
      ],
      "execution_count": null,
      "outputs": [
        {
          "output_type": "stream",
          "text": [
            "Predicted vs. Predicted Rounded off vs. Actual for addition\n",
            "\n",
            "tensor([[[ 4.9397],\n",
            "         [ 5.0000],\n",
            "         [ 5.0000]],\n",
            "\n",
            "        [[12.7427],\n",
            "         [13.0000],\n",
            "         [13.0000]],\n",
            "\n",
            "        [[14.7333],\n",
            "         [15.0000],\n",
            "         [15.0000]],\n",
            "\n",
            "        [[ 7.8813],\n",
            "         [ 8.0000],\n",
            "         [ 8.0000]],\n",
            "\n",
            "        [[ 9.8011],\n",
            "         [10.0000],\n",
            "         [10.0000]]], device='cuda:0', grad_fn=<SliceBackward>)\n"
          ],
          "name": "stdout"
        }
      ]
    }
  ]
}